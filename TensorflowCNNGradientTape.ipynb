{
  "nbformat": 4,
  "nbformat_minor": 0,
  "metadata": {
    "colab": {
      "name": "TensorflowCNNGradientTape.ipynb",
      "provenance": [],
      "collapsed_sections": [],
      "authorship_tag": "ABX9TyNHFJXkUXIHg3ZEtQaevQlv",
      "include_colab_link": true
    },
    "kernelspec": {
      "name": "python3",
      "display_name": "Python 3"
    },
    "language_info": {
      "name": "python"
    },
    "accelerator": "GPU"
  },
  "cells": [
    {
      "cell_type": "markdown",
      "metadata": {
        "id": "view-in-github",
        "colab_type": "text"
      },
      "source": [
        "<a href=\"https://colab.research.google.com/github/JibrilTheUltimateFlugel/TensorflowTest/blob/main/TensorflowCNNGradientTape.ipynb\" target=\"_parent\"><img src=\"https://colab.research.google.com/assets/colab-badge.svg\" alt=\"Open In Colab\"/></a>"
      ]
    },
    {
      "cell_type": "code",
      "metadata": {
        "id": "We6PJPZHJF4L"
      },
      "source": [
        "import numpy as np\n",
        "import tensorflow as tf\n",
        "import pandas as pd\n",
        "import os\n",
        "import matplotlib.pyplot as plot\n",
        "from keras.datasets import cifar10\n",
        "from keras.optimizers import Adam\n",
        "from keras.initializers import RandomNormal"
      ],
      "execution_count": 4,
      "outputs": []
    },
    {
      "cell_type": "code",
      "metadata": {
        "id": "CTu7JvJ8NRcd"
      },
      "source": [
        "#Load and preprocess training data\n",
        "(train_img, train_lab), (test_img, test_lab) = cifar10.load_data()\n",
        "train_img = (train_img / 255).reshape((-1, 32, 32, 3))\n",
        "train_lab = tf.keras.utils.to_categorical(train_lab, 10)\n",
        "test_img = (test_img / 255).reshape((-1, 32, 32, 3))\n",
        "test_lab = tf.keras.utils.to_categorical(test_lab, 10)"
      ],
      "execution_count": 8,
      "outputs": []
    },
    {
      "cell_type": "code",
      "metadata": {
        "colab": {
          "base_uri": "https://localhost:8080/"
        },
        "id": "0CMSltQ5NWgw",
        "outputId": "9940175a-f773-4e1d-c6e6-21fd37cc51ca"
      },
      "source": [
        "print(train_img.shape)\n",
        "print(test_img.shape)"
      ],
      "execution_count": 9,
      "outputs": [
        {
          "output_type": "stream",
          "text": [
            "(50000, 32, 32, 3)\n",
            "(10000, 32, 32, 3)\n"
          ],
          "name": "stdout"
        }
      ]
    },
    {
      "cell_type": "code",
      "metadata": {
        "id": "hhTaDcU3gFQv",
        "colab": {
          "base_uri": "https://localhost:8080/"
        },
        "outputId": "33f496c3-29ae-41e2-88d9-1df0a3a93f0a"
      },
      "source": [
        "#Hyperparameters\n",
        "batch_size = 128\n",
        "epochs = 50\n",
        "optimizer = Adam(lr=0.001)\n",
        "weight_init = RandomNormal()"
      ],
      "execution_count": 14,
      "outputs": [
        {
          "output_type": "stream",
          "text": [
            "/usr/local/lib/python3.7/dist-packages/tensorflow/python/keras/optimizer_v2/optimizer_v2.py:375: UserWarning: The `lr` argument is deprecated, use `learning_rate` instead.\n",
            "  \"The `lr` argument is deprecated, use `learning_rate` instead.\")\n"
          ],
          "name": "stderr"
        }
      ]
    },
    {
      "cell_type": "code",
      "metadata": {
        "id": "XfbTz36kQFdi"
      },
      "source": [
        "class_names = ['airplane', 'automobile', 'bird', 'cat', 'deer', 'dog', 'frog', 'horse', 'ship', 'truck']"
      ],
      "execution_count": 15,
      "outputs": []
    },
    {
      "cell_type": "code",
      "metadata": {
        "id": "t9wrAXDMbLHI"
      },
      "source": [
        "#Ver 2.0 Using tf.data.Dataset and batching as well as shuffling\n",
        "train_dataset = tf.data.Dataset.from_tensor_slices((train_img,train_lab))\n",
        "train_dataset = train_dataset.shuffle(50000).batch(128)\n",
        "\n",
        "test_dataset = tf.data.Dataset.from_tensor_slices((test_img,test_lab))\n",
        "test_dataset = test_dataset.shuffle(10000).batch(128)"
      ],
      "execution_count": 16,
      "outputs": []
    },
    {
      "cell_type": "code",
      "metadata": {
        "id": "cBItEjnD_H5m"
      },
      "source": [
        "from tensorflow.keras.layers import Conv2D, Flatten, Dense, Dropout, MaxPooling2D\n",
        "from tensorflow.keras.models import Sequential\n",
        "\n",
        "# Build model architecture\n",
        "model = Sequential()\n",
        "model.add(Conv2D(32, kernel_size=(3, 3), activation='relu', kernel_initializer=weight_init, input_shape=(32, 32, 3)))\n",
        "model.add(Conv2D(64, (3, 3), activation='relu', kernel_initializer=weight_init))\n",
        "model.add(MaxPooling2D(pool_size=(2, 2)))\n",
        "model.add(Dropout(0.25))\n",
        "model.add(Flatten())\n",
        "model.add(Dense(128, activation='relu', kernel_initializer=weight_init))\n",
        "model.add(Dropout(0.5))\n",
        "model.add(Dense(10, activation='softmax', kernel_initializer=weight_init))"
      ],
      "execution_count": 21,
      "outputs": []
    },
    {
      "cell_type": "code",
      "metadata": {
        "id": "kn-ODg_umL9n"
      },
      "source": [
        "#Define step function\n",
        "def step(real_img, real_lab):\n",
        "    with tf.GradientTape() as tape:\n",
        "        # Make prediction\n",
        "        pred_lab = model(real_img.reshape((-1, 32, 32, 3)))\n",
        "        # Calculate loss\n",
        "        model_loss = tf.keras.losses.categorical_crossentropy(real_lab, pred_lab)\n",
        "    \n",
        "    # Calculate gradients\n",
        "    model_gradients = tape.gradient(model_loss, model.trainable_variables)\n",
        "    # Update model\n",
        "    optimizer.apply_gradients(zip(model_gradients, model.trainable_variables))"
      ],
      "execution_count": 22,
      "outputs": []
    },
    {
      "cell_type": "code",
      "metadata": {
        "colab": {
          "base_uri": "https://localhost:8080/"
        },
        "id": "X6U-n0MlnO-f",
        "outputId": "996c237e-c9fc-4e9b-fc4b-c40d020f2ff5"
      },
      "source": [
        "import math\n",
        "\n",
        "# Training loop\n",
        "bat_per_epoch = math.floor(len(train_img) / batch_size)\n",
        "for epoch in range(epochs):\n",
        "    print('=', end='')\n",
        "    for i in range(bat_per_epoch):\n",
        "        n = i*batch_size\n",
        "        step(train_img[n:n+batch_size], train_lab[n:n+batch_size])"
      ],
      "execution_count": 23,
      "outputs": [
        {
          "output_type": "stream",
          "text": [
            "=================================================="
          ],
          "name": "stdout"
        }
      ]
    },
    {
      "cell_type": "code",
      "metadata": {
        "id": "c5guvy3JEASZ",
        "colab": {
          "base_uri": "https://localhost:8080/"
        },
        "outputId": "a017cb3c-10e2-4fb2-9ee2-d3fde1a3e61c"
      },
      "source": [
        "# Calculate accuracy\n",
        "model.compile(optimizer=optimizer, loss=tf.keras.losses.categorical_crossentropy, metrics=['accuracy'])\n",
        "print('\\n', model.evaluate(test_img, test_lab, verbose=0)[1])"
      ],
      "execution_count": 33,
      "outputs": [
        {
          "output_type": "stream",
          "text": [
            "\n",
            " 0.7032999992370605\n"
          ],
          "name": "stdout"
        }
      ]
    },
    {
      "cell_type": "code",
      "metadata": {
        "colab": {
          "base_uri": "https://localhost:8080/"
        },
        "id": "IWlO352XF8Mg",
        "outputId": "fcad5893-1acf-4676-8a59-b66697dbcaf8"
      },
      "source": [
        "#Now use the datasets to fit to the model!\n",
        "history = model.fit(train_dataset,epochs=50,validation_data=(test_dataset))\n",
        "#model.save('cnnfromscratch.h5')"
      ],
      "execution_count": 34,
      "outputs": [
        {
          "output_type": "stream",
          "text": [
            "Epoch 1/50\n",
            "391/391 [==============================] - 9s 22ms/step - loss: 0.3001 - accuracy: 0.8881 - val_loss: 1.2111 - val_accuracy: 0.7065\n",
            "Epoch 2/50\n",
            "391/391 [==============================] - 6s 13ms/step - loss: 0.2914 - accuracy: 0.8944 - val_loss: 1.2541 - val_accuracy: 0.7055\n",
            "Epoch 3/50\n",
            "391/391 [==============================] - 6s 13ms/step - loss: 0.2926 - accuracy: 0.8939 - val_loss: 1.2016 - val_accuracy: 0.7050\n",
            "Epoch 4/50\n",
            "391/391 [==============================] - 6s 13ms/step - loss: 0.2861 - accuracy: 0.8947 - val_loss: 1.1870 - val_accuracy: 0.7081\n",
            "Epoch 5/50\n",
            "391/391 [==============================] - 6s 13ms/step - loss: 0.2857 - accuracy: 0.8949 - val_loss: 1.2277 - val_accuracy: 0.7039\n",
            "Epoch 6/50\n",
            "391/391 [==============================] - 6s 13ms/step - loss: 0.2775 - accuracy: 0.8983 - val_loss: 1.2115 - val_accuracy: 0.7084\n",
            "Epoch 7/50\n",
            "391/391 [==============================] - 6s 13ms/step - loss: 0.2802 - accuracy: 0.8968 - val_loss: 1.1772 - val_accuracy: 0.7108\n",
            "Epoch 8/50\n",
            "391/391 [==============================] - 6s 13ms/step - loss: 0.2754 - accuracy: 0.9007 - val_loss: 1.2009 - val_accuracy: 0.7080\n",
            "Epoch 9/50\n",
            "391/391 [==============================] - 6s 13ms/step - loss: 0.2816 - accuracy: 0.8968 - val_loss: 1.2165 - val_accuracy: 0.7106\n",
            "Epoch 10/50\n",
            "391/391 [==============================] - 6s 13ms/step - loss: 0.2752 - accuracy: 0.9004 - val_loss: 1.2497 - val_accuracy: 0.7101\n",
            "Epoch 11/50\n",
            "391/391 [==============================] - 6s 14ms/step - loss: 0.2647 - accuracy: 0.9026 - val_loss: 1.1835 - val_accuracy: 0.7153\n",
            "Epoch 12/50\n",
            "391/391 [==============================] - 9s 23ms/step - loss: 0.2664 - accuracy: 0.9020 - val_loss: 1.2252 - val_accuracy: 0.7116\n",
            "Epoch 13/50\n",
            "391/391 [==============================] - 9s 22ms/step - loss: 0.2642 - accuracy: 0.9027 - val_loss: 1.2054 - val_accuracy: 0.7104\n",
            "Epoch 14/50\n",
            "391/391 [==============================] - 9s 22ms/step - loss: 0.2594 - accuracy: 0.9057 - val_loss: 1.2150 - val_accuracy: 0.7102\n",
            "Epoch 15/50\n",
            "391/391 [==============================] - 9s 23ms/step - loss: 0.2540 - accuracy: 0.9060 - val_loss: 1.2743 - val_accuracy: 0.7100\n",
            "Epoch 16/50\n",
            "391/391 [==============================] - 9s 23ms/step - loss: 0.2550 - accuracy: 0.9064 - val_loss: 1.2271 - val_accuracy: 0.7102\n",
            "Epoch 17/50\n",
            "391/391 [==============================] - 9s 22ms/step - loss: 0.2528 - accuracy: 0.9070 - val_loss: 1.2995 - val_accuracy: 0.7100\n",
            "Epoch 18/50\n",
            "391/391 [==============================] - 9s 22ms/step - loss: 0.2511 - accuracy: 0.9095 - val_loss: 1.2786 - val_accuracy: 0.7108\n",
            "Epoch 19/50\n",
            "391/391 [==============================] - 9s 22ms/step - loss: 0.2453 - accuracy: 0.9116 - val_loss: 1.2819 - val_accuracy: 0.7128\n",
            "Epoch 20/50\n",
            "391/391 [==============================] - 9s 22ms/step - loss: 0.2491 - accuracy: 0.9080 - val_loss: 1.3131 - val_accuracy: 0.7079\n",
            "Epoch 21/50\n",
            "391/391 [==============================] - 9s 22ms/step - loss: 0.2479 - accuracy: 0.9101 - val_loss: 1.2984 - val_accuracy: 0.7129\n",
            "Epoch 22/50\n",
            "391/391 [==============================] - 9s 22ms/step - loss: 0.2456 - accuracy: 0.9097 - val_loss: 1.2761 - val_accuracy: 0.7090\n",
            "Epoch 23/50\n",
            "391/391 [==============================] - 9s 22ms/step - loss: 0.2387 - accuracy: 0.9146 - val_loss: 1.3067 - val_accuracy: 0.7116\n",
            "Epoch 24/50\n",
            "391/391 [==============================] - 9s 22ms/step - loss: 0.2458 - accuracy: 0.9100 - val_loss: 1.2685 - val_accuracy: 0.7107\n",
            "Epoch 25/50\n",
            "391/391 [==============================] - 9s 22ms/step - loss: 0.2421 - accuracy: 0.9128 - val_loss: 1.2878 - val_accuracy: 0.7107\n",
            "Epoch 26/50\n",
            "391/391 [==============================] - 9s 22ms/step - loss: 0.2427 - accuracy: 0.9116 - val_loss: 1.2486 - val_accuracy: 0.7093\n",
            "Epoch 27/50\n",
            "391/391 [==============================] - 9s 22ms/step - loss: 0.2293 - accuracy: 0.9156 - val_loss: 1.3270 - val_accuracy: 0.7083\n",
            "Epoch 28/50\n",
            "391/391 [==============================] - 9s 22ms/step - loss: 0.2347 - accuracy: 0.9145 - val_loss: 1.2806 - val_accuracy: 0.7150\n",
            "Epoch 29/50\n",
            "391/391 [==============================] - 10s 23ms/step - loss: 0.2324 - accuracy: 0.9142 - val_loss: 1.3112 - val_accuracy: 0.7121\n",
            "Epoch 30/50\n",
            "391/391 [==============================] - 10s 24ms/step - loss: 0.2405 - accuracy: 0.9136 - val_loss: 1.3150 - val_accuracy: 0.7086\n",
            "Epoch 31/50\n",
            "391/391 [==============================] - 10s 24ms/step - loss: 0.2322 - accuracy: 0.9152 - val_loss: 1.2807 - val_accuracy: 0.7112\n",
            "Epoch 32/50\n",
            "391/391 [==============================] - 10s 25ms/step - loss: 0.2318 - accuracy: 0.9157 - val_loss: 1.2829 - val_accuracy: 0.7109\n",
            "Epoch 33/50\n",
            "391/391 [==============================] - 10s 24ms/step - loss: 0.2278 - accuracy: 0.9173 - val_loss: 1.2842 - val_accuracy: 0.7101\n",
            "Epoch 34/50\n",
            "391/391 [==============================] - 9s 23ms/step - loss: 0.2214 - accuracy: 0.9197 - val_loss: 1.3536 - val_accuracy: 0.7114\n",
            "Epoch 35/50\n",
            "391/391 [==============================] - 10s 24ms/step - loss: 0.2267 - accuracy: 0.9164 - val_loss: 1.2935 - val_accuracy: 0.7148\n",
            "Epoch 36/50\n",
            "391/391 [==============================] - 10s 24ms/step - loss: 0.2226 - accuracy: 0.9201 - val_loss: 1.3586 - val_accuracy: 0.7127\n",
            "Epoch 37/50\n",
            "391/391 [==============================] - 10s 25ms/step - loss: 0.2228 - accuracy: 0.9202 - val_loss: 1.3120 - val_accuracy: 0.7098\n",
            "Epoch 38/50\n",
            "391/391 [==============================] - 10s 26ms/step - loss: 0.2217 - accuracy: 0.9193 - val_loss: 1.3118 - val_accuracy: 0.7093\n",
            "Epoch 39/50\n",
            "391/391 [==============================] - 10s 24ms/step - loss: 0.2132 - accuracy: 0.9218 - val_loss: 1.3448 - val_accuracy: 0.7135\n",
            "Epoch 40/50\n",
            "391/391 [==============================] - 10s 24ms/step - loss: 0.2167 - accuracy: 0.9214 - val_loss: 1.3545 - val_accuracy: 0.7106\n",
            "Epoch 41/50\n",
            "391/391 [==============================] - 10s 25ms/step - loss: 0.2148 - accuracy: 0.9206 - val_loss: 1.3523 - val_accuracy: 0.7126\n",
            "Epoch 42/50\n",
            "391/391 [==============================] - 10s 25ms/step - loss: 0.2104 - accuracy: 0.9239 - val_loss: 1.3470 - val_accuracy: 0.7121\n",
            "Epoch 43/50\n",
            "391/391 [==============================] - 10s 25ms/step - loss: 0.2098 - accuracy: 0.9239 - val_loss: 1.3064 - val_accuracy: 0.7134\n",
            "Epoch 44/50\n",
            "391/391 [==============================] - 10s 25ms/step - loss: 0.2095 - accuracy: 0.9240 - val_loss: 1.3602 - val_accuracy: 0.7114\n",
            "Epoch 45/50\n",
            "391/391 [==============================] - 10s 25ms/step - loss: 0.2133 - accuracy: 0.9217 - val_loss: 1.3627 - val_accuracy: 0.7107\n",
            "Epoch 46/50\n",
            "391/391 [==============================] - 10s 25ms/step - loss: 0.2043 - accuracy: 0.9246 - val_loss: 1.3688 - val_accuracy: 0.7118\n",
            "Epoch 47/50\n",
            "391/391 [==============================] - 10s 25ms/step - loss: 0.2023 - accuracy: 0.9256 - val_loss: 1.3463 - val_accuracy: 0.7106\n",
            "Epoch 48/50\n",
            "391/391 [==============================] - 10s 25ms/step - loss: 0.2082 - accuracy: 0.9244 - val_loss: 1.3917 - val_accuracy: 0.7175\n",
            "Epoch 49/50\n",
            "391/391 [==============================] - 10s 24ms/step - loss: 0.2089 - accuracy: 0.9240 - val_loss: 1.3864 - val_accuracy: 0.7127\n",
            "Epoch 50/50\n",
            "391/391 [==============================] - 10s 25ms/step - loss: 0.2034 - accuracy: 0.9266 - val_loss: 1.3545 - val_accuracy: 0.7137\n"
          ],
          "name": "stdout"
        }
      ]
    },
    {
      "cell_type": "code",
      "metadata": {
        "id": "DkSaOCS3U1eH"
      },
      "source": [
        "# plot diagnostic learning curves\n",
        "def summarize_diagnostics(history):\n",
        "\t# plot loss\n",
        "\tplot.subplot(211)\n",
        "\tplot.title('Cross Entropy Loss')\n",
        "\tplot.plot(history.history['loss'], color='blue', label='train')\n",
        "\tplot.plot(history.history['val_loss'], color='orange', label='test')\n",
        "\t# plot accuracy\n",
        "\tplot.subplot(212)\n",
        "\tplot.title('Classification Accuracy')\n",
        "\tplot.plot(history.history['accuracy'], color='blue', label='train')\n",
        "\tplot.plot(history.history['val_accuracy'], color='orange', label='test')\n",
        "\t# save plot to file\n",
        "\t#filename = sys.argv[0].split('/')[-1]\n",
        "\t#pyplot.savefig(filename + '_plot.png')\n",
        "\t#pyplot.close()"
      ],
      "execution_count": 35,
      "outputs": []
    },
    {
      "cell_type": "code",
      "metadata": {
        "colab": {
          "base_uri": "https://localhost:8080/",
          "height": 281
        },
        "id": "H5cQ86b46cfT",
        "outputId": "ea1f10ab-d90e-48bf-a063-66ac61358dab"
      },
      "source": [
        "summarize_diagnostics(history)"
      ],
      "execution_count": 36,
      "outputs": [
        {
          "output_type": "display_data",
          "data": {
            "image/png": "[encoded data removed]",
            "text/plain": [
              "<Figure size 432x288 with 2 Axes>"
            ]
          },
          "metadata": {
            "tags": [],
            "needs_background": "light"
          }
        }
      ]
    },
    {
      "cell_type": "code",
      "metadata": {
        "colab": {
          "base_uri": "https://localhost:8080/"
        },
        "id": "cWNNKwkR6Eu0",
        "outputId": "71cfc66e-f15f-4c3c-a9c2-22d9f902d8e9"
      },
      "source": [
        "#Evaluating the model with training dataset\n",
        "loss, accuracy = model.evaluate(train_dataset)\n",
        "print(\"Loss:\", loss)\n",
        "print(\"Accuracy:\", accuracy)"
      ],
      "execution_count": 37,
      "outputs": [
        {
          "output_type": "stream",
          "text": [
            "391/391 [==============================] - 7s 16ms/step - loss: 0.0060 - accuracy: 1.0000\n",
            "Loss: 0.0059892479330301285\n",
            "Accuracy: 0.9999799728393555\n"
          ],
          "name": "stdout"
        }
      ]
    },
    {
      "cell_type": "code",
      "metadata": {
        "colab": {
          "base_uri": "https://localhost:8080/"
        },
        "id": "t_ZDsSfqBkXM",
        "outputId": "beca1a64-2696-44ef-95b6-6312964c7e86"
      },
      "source": [
        "#Evaluating the model with testing dataset\n",
        "loss, accuracy = model.evaluate(test_dataset)\n",
        "print(\"Loss:\", loss)\n",
        "print(\"Accuracy:\", accuracy)"
      ],
      "execution_count": 38,
      "outputs": [
        {
          "output_type": "stream",
          "text": [
            "79/79 [==============================] - 1s 7ms/step - loss: 1.3545 - accuracy: 0.7137\n",
            "Loss: 1.3544788360595703\n",
            "Accuracy: 0.713699996471405\n"
          ],
          "name": "stdout"
        }
      ]
    },
    {
      "cell_type": "code",
      "metadata": {
        "colab": {
          "base_uri": "https://localhost:8080/",
          "height": 296
        },
        "id": "uJ1Wl7OwG-BS",
        "outputId": "12e166fe-332a-47fe-ee98-05610f226665"
      },
      "source": [
        "plot.plot(history.history['accuracy'], label='accuracy') \n",
        "plot.plot(history.history['val_accuracy'], label='validation accuracy')\n",
        "plot.xlabel('Epochs')\n",
        "plot.ylabel('Accuracy')\n",
        "plot.legend(loc = 'lower right')"
      ],
      "execution_count": 43,
      "outputs": [
        {
          "output_type": "execute_result",
          "data": {
            "text/plain": [
              "<matplotlib.legend.Legend at 0x7f1d8a350dd0>"
            ]
          },
          "metadata": {
            "tags": []
          },
          "execution_count": 43
        },
        {
          "output_type": "display_data",
          "data": {
            "image/png": "[encoded data removed]",
            "text/plain": [
              "<Figure size 432x288 with 1 Axes>"
            ]
          },
          "metadata": {
            "tags": [],
            "needs_background": "light"
          }
        }
      ]
    },
    {
      "cell_type": "code",
      "metadata": {
        "colab": {
          "base_uri": "https://localhost:8080/",
          "height": 296
        },
        "id": "CdEnlt_dVTNf",
        "outputId": "42a70013-128d-442d-e1dc-f3d446204489"
      },
      "source": [
        "plot.plot(history.history['loss'], label='loss') \n",
        "plot.plot(history.history['val_loss'], label='validation loss')\n",
        "plot.xlabel('Epochs')\n",
        "plot.ylabel('Loss')\n",
        "plot.legend(loc = 'lower right')"
      ],
      "execution_count": 42,
      "outputs": [
        {
          "output_type": "execute_result",
          "data": {
            "text/plain": [
              "<matplotlib.legend.Legend at 0x7f1d761c0890>"
            ]
          },
          "metadata": {
            "tags": []
          },
          "execution_count": 42
        },
        {
          "output_type": "display_data",
          "data": {
            "image/png": "[encoded data removed]",
            "text/plain": [
              "<Figure size 432x288 with 1 Axes>"
            ]
          },
          "metadata": {
            "tags": [],
            "needs_background": "light"
          }
        }
      ]
    }
  ]
}