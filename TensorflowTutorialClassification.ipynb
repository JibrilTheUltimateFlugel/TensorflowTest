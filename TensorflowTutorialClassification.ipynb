{
  "nbformat": 4,
  "nbformat_minor": 0,
  "metadata": {
    "colab": {
      "name": "TensorflowTutorialClassification.ipynb",
      "provenance": [],
      "collapsed_sections": [],
      "authorship_tag": "ABX9TyOtmib0o5XbyD2P9pMxIRau",
      "include_colab_link": true
    },
    "kernelspec": {
      "name": "python3",
      "display_name": "Python 3"
    },
    "language_info": {
      "name": "python"
    }
  },
  "cells": [
    {
      "cell_type": "markdown",
      "metadata": {
        "id": "view-in-github",
        "colab_type": "text"
      },
      "source": [
        "<a href=\"https://colab.research.google.com/github/JibrilTheUltimateFlugel/TensorflowTest/blob/main/TensorflowTutorialClassification.ipynb\" target=\"_parent\"><img src=\"https://colab.research.google.com/assets/colab-badge.svg\" alt=\"Open In Colab\"/></a>"
      ]
    },
    {
      "cell_type": "code",
      "metadata": {
        "colab": {
          "base_uri": "https://localhost:8080/"
        },
        "id": "8NF7toS7xOxH",
        "outputId": "cadef9eb-1f0d-4c68-804f-044c292310fc"
      },
      "source": [
        "%tensorflow_version 2.x  # this line is not required unless you are in a notebook"
      ],
      "execution_count": 1,
      "outputs": [
        {
          "output_type": "stream",
          "text": [
            "`%tensorflow_version` only switches the major version: 1.x or 2.x.\n",
            "You set: `2.x  # this line is not required unless you are in a notebook`. This will be interpreted as: `2.x`.\n",
            "\n",
            "\n",
            "TensorFlow 2.x selected.\n"
          ],
          "name": "stdout"
        }
      ]
    },
    {
      "cell_type": "code",
      "metadata": {
        "id": "1ZPcbY85zJaY"
      },
      "source": [
        "from __future__ import absolute_import, division, print_function, unicode_literals\n",
        "\n",
        "\n",
        "import tensorflow as tf\n",
        "\n",
        "import pandas as pd"
      ],
      "execution_count": 2,
      "outputs": []
    },
    {
      "cell_type": "code",
      "metadata": {
        "id": "AXVWsTllzK2L"
      },
      "source": [
        "CSV_COLUMN_NAMES = ['SepalLength', 'SepalWidth', 'PetalLength', 'PetalWidth', 'Species']\n",
        "SPECIES = ['Setosa', 'Versicolor', 'Virginica']\n",
        "# Lets define some constants to help us later on"
      ],
      "execution_count": 3,
      "outputs": []
    },
    {
      "cell_type": "code",
      "metadata": {
        "colab": {
          "base_uri": "https://localhost:8080/"
        },
        "id": "1I3mpohizMrS",
        "outputId": "9f8e6b26-c26f-4e32-e937-e219fa903878"
      },
      "source": [
        "train_path = tf.keras.utils.get_file(\n",
        "    \"iris_training.csv\", \"https://storage.googleapis.com/download.tensorflow.org/data/iris_training.csv\")\n",
        "test_path = tf.keras.utils.get_file(\n",
        "    \"iris_test.csv\", \"https://storage.googleapis.com/download.tensorflow.org/data/iris_test.csv\")\n",
        "\n",
        "train = pd.read_csv(train_path, names=CSV_COLUMN_NAMES, header=0)\n",
        "test = pd.read_csv(test_path, names=CSV_COLUMN_NAMES, header=0)\n",
        "# Here we use keras (a module inside of TensorFlow) to grab our datasets and read them into a pandas dataframe"
      ],
      "execution_count": 4,
      "outputs": [
        {
          "output_type": "stream",
          "text": [
            "Downloading data from https://storage.googleapis.com/download.tensorflow.org/data/iris_training.csv\n",
            "8192/2194 [================================================================================================================] - 0s 0us/step\n",
            "Downloading data from https://storage.googleapis.com/download.tensorflow.org/data/iris_test.csv\n",
            "8192/573 [============================================================================================================================================================================================================================================================================================================================================================================================================================================] - 0s 0us/step\n"
          ],
          "name": "stdout"
        }
      ]
    },
    {
      "cell_type": "code",
      "metadata": {
        "colab": {
          "base_uri": "https://localhost:8080/",
          "height": 197
        },
        "id": "ivl6xQJgzlmK",
        "outputId": "7077873f-2936-4cad-a22c-13dd5a4fafc4"
      },
      "source": [
        "train.head()"
      ],
      "execution_count": 5,
      "outputs": [
        {
          "output_type": "execute_result",
          "data": {
            "text/html": [
              "<div>\n",
              "<style scoped>\n",
              "    .dataframe tbody tr th:only-of-type {\n",
              "        vertical-align: middle;\n",
              "    }\n",
              "\n",
              "    .dataframe tbody tr th {\n",
              "        vertical-align: top;\n",
              "    }\n",
              "\n",
              "    .dataframe thead th {\n",
              "        text-align: right;\n",
              "    }\n",
              "</style>\n",
              "<table border=\"1\" class=\"dataframe\">\n",
              "  <thead>\n",
              "    <tr style=\"text-align: right;\">\n",
              "      <th></th>\n",
              "      <th>SepalLength</th>\n",
              "      <th>SepalWidth</th>\n",
              "      <th>PetalLength</th>\n",
              "      <th>PetalWidth</th>\n",
              "      <th>Species</th>\n",
              "    </tr>\n",
              "  </thead>\n",
              "  <tbody>\n",
              "    <tr>\n",
              "      <th>0</th>\n",
              "      <td>6.4</td>\n",
              "      <td>2.8</td>\n",
              "      <td>5.6</td>\n",
              "      <td>2.2</td>\n",
              "      <td>2</td>\n",
              "    </tr>\n",
              "    <tr>\n",
              "      <th>1</th>\n",
              "      <td>5.0</td>\n",
              "      <td>2.3</td>\n",
              "      <td>3.3</td>\n",
              "      <td>1.0</td>\n",
              "      <td>1</td>\n",
              "    </tr>\n",
              "    <tr>\n",
              "      <th>2</th>\n",
              "      <td>4.9</td>\n",
              "      <td>2.5</td>\n",
              "      <td>4.5</td>\n",
              "      <td>1.7</td>\n",
              "      <td>2</td>\n",
              "    </tr>\n",
              "    <tr>\n",
              "      <th>3</th>\n",
              "      <td>4.9</td>\n",
              "      <td>3.1</td>\n",
              "      <td>1.5</td>\n",
              "      <td>0.1</td>\n",
              "      <td>0</td>\n",
              "    </tr>\n",
              "    <tr>\n",
              "      <th>4</th>\n",
              "      <td>5.7</td>\n",
              "      <td>3.8</td>\n",
              "      <td>1.7</td>\n",
              "      <td>0.3</td>\n",
              "      <td>0</td>\n",
              "    </tr>\n",
              "  </tbody>\n",
              "</table>\n",
              "</div>"
            ],
            "text/plain": [
              "   SepalLength  SepalWidth  PetalLength  PetalWidth  Species\n",
              "0          6.4         2.8          5.6         2.2        2\n",
              "1          5.0         2.3          3.3         1.0        1\n",
              "2          4.9         2.5          4.5         1.7        2\n",
              "3          4.9         3.1          1.5         0.1        0\n",
              "4          5.7         3.8          1.7         0.3        0"
            ]
          },
          "metadata": {
            "tags": []
          },
          "execution_count": 5
        }
      ]
    },
    {
      "cell_type": "code",
      "metadata": {
        "colab": {
          "base_uri": "https://localhost:8080/",
          "height": 197
        },
        "id": "Ea4pYnJzzmS8",
        "outputId": "d6a49f62-5abe-4b0a-f77c-3586238935d8"
      },
      "source": [
        "train_y = train.pop('Species')\n",
        "test_y = test.pop('Species')\n",
        "train.head() # the species column is now gone"
      ],
      "execution_count": 6,
      "outputs": [
        {
          "output_type": "execute_result",
          "data": {
            "text/html": [
              "<div>\n",
              "<style scoped>\n",
              "    .dataframe tbody tr th:only-of-type {\n",
              "        vertical-align: middle;\n",
              "    }\n",
              "\n",
              "    .dataframe tbody tr th {\n",
              "        vertical-align: top;\n",
              "    }\n",
              "\n",
              "    .dataframe thead th {\n",
              "        text-align: right;\n",
              "    }\n",
              "</style>\n",
              "<table border=\"1\" class=\"dataframe\">\n",
              "  <thead>\n",
              "    <tr style=\"text-align: right;\">\n",
              "      <th></th>\n",
              "      <th>SepalLength</th>\n",
              "      <th>SepalWidth</th>\n",
              "      <th>PetalLength</th>\n",
              "      <th>PetalWidth</th>\n",
              "    </tr>\n",
              "  </thead>\n",
              "  <tbody>\n",
              "    <tr>\n",
              "      <th>0</th>\n",
              "      <td>6.4</td>\n",
              "      <td>2.8</td>\n",
              "      <td>5.6</td>\n",
              "      <td>2.2</td>\n",
              "    </tr>\n",
              "    <tr>\n",
              "      <th>1</th>\n",
              "      <td>5.0</td>\n",
              "      <td>2.3</td>\n",
              "      <td>3.3</td>\n",
              "      <td>1.0</td>\n",
              "    </tr>\n",
              "    <tr>\n",
              "      <th>2</th>\n",
              "      <td>4.9</td>\n",
              "      <td>2.5</td>\n",
              "      <td>4.5</td>\n",
              "      <td>1.7</td>\n",
              "    </tr>\n",
              "    <tr>\n",
              "      <th>3</th>\n",
              "      <td>4.9</td>\n",
              "      <td>3.1</td>\n",
              "      <td>1.5</td>\n",
              "      <td>0.1</td>\n",
              "    </tr>\n",
              "    <tr>\n",
              "      <th>4</th>\n",
              "      <td>5.7</td>\n",
              "      <td>3.8</td>\n",
              "      <td>1.7</td>\n",
              "      <td>0.3</td>\n",
              "    </tr>\n",
              "  </tbody>\n",
              "</table>\n",
              "</div>"
            ],
            "text/plain": [
              "   SepalLength  SepalWidth  PetalLength  PetalWidth\n",
              "0          6.4         2.8          5.6         2.2\n",
              "1          5.0         2.3          3.3         1.0\n",
              "2          4.9         2.5          4.5         1.7\n",
              "3          4.9         3.1          1.5         0.1\n",
              "4          5.7         3.8          1.7         0.3"
            ]
          },
          "metadata": {
            "tags": []
          },
          "execution_count": 6
        }
      ]
    },
    {
      "cell_type": "code",
      "metadata": {
        "colab": {
          "base_uri": "https://localhost:8080/"
        },
        "id": "yCQO34x4znlj",
        "outputId": "51734090-0c09-460f-b232-32137ca2eaec"
      },
      "source": [
        "train.shape  # we have 120 entires with 4 features"
      ],
      "execution_count": 7,
      "outputs": [
        {
          "output_type": "execute_result",
          "data": {
            "text/plain": [
              "(120, 4)"
            ]
          },
          "metadata": {
            "tags": []
          },
          "execution_count": 7
        }
      ]
    },
    {
      "cell_type": "code",
      "metadata": {
        "colab": {
          "base_uri": "https://localhost:8080/"
        },
        "id": "U2DihC1z0wjP",
        "outputId": "4d71613d-8a8c-4110-edcf-259a67188895"
      },
      "source": [
        "def input_fn(features, labels, training=True, batch_size=256):\n",
        "    # Convert the inputs to a Dataset.\n",
        "    dataset = tf.data.Dataset.from_tensor_slices((dict(features), labels))\n",
        "\n",
        "    # Shuffle and repeat if you are in training mode.\n",
        "    if training:\n",
        "        dataset = dataset.shuffle(1000).repeat()\n",
        "    \n",
        "    return dataset.batch(batch_size)\n",
        "\n",
        "# Feature columns describe how to use the input.\n",
        "my_feature_columns = []\n",
        "for key in train.keys():\n",
        "    my_feature_columns.append(tf.feature_column.numeric_column(key=key))\n",
        "print(my_feature_columns)\n",
        "\n",
        "# Build a DNN with 2 hidden layers with 30 and 10 hidden nodes each.\n",
        "classifier = tf.estimator.DNNClassifier(\n",
        "    feature_columns=my_feature_columns,\n",
        "    # Two hidden layers of 30 and 10 nodes respectively.\n",
        "    hidden_units=[30, 10],\n",
        "    # The model must choose between 3 classes.\n",
        "    n_classes=3)\n",
        "\n",
        "classifier.train(\n",
        "    input_fn=lambda: input_fn(train, train_y, training=True),\n",
        "    steps=5000)\n",
        "# We include a lambda to avoid creating an inner function previously\n",
        "\n",
        "eval_result = classifier.evaluate(input_fn=lambda: input_fn(test, test_y, training=False))\n",
        "print('\\nTest set accuracy: {accuracy:0.3f}\\n'.format(**eval_result))"
      ],
      "execution_count": 9,
      "outputs": [
        {
          "output_type": "stream",
          "text": [
            "[NumericColumn(key='SepalLength', shape=(1,), default_value=None, dtype=tf.float32, normalizer_fn=None), NumericColumn(key='SepalWidth', shape=(1,), default_value=None, dtype=tf.float32, normalizer_fn=None), NumericColumn(key='PetalLength', shape=(1,), default_value=None, dtype=tf.float32, normalizer_fn=None), NumericColumn(key='PetalWidth', shape=(1,), default_value=None, dtype=tf.float32, normalizer_fn=None)]\n",
            "INFO:tensorflow:Using default config.\n",
            "WARNING:tensorflow:Using temporary folder as model directory: /tmp/tmp75ev2hjn\n",
            "INFO:tensorflow:Using config: {'_model_dir': '/tmp/tmp75ev2hjn', '_tf_random_seed': None, '_save_summary_steps': 100, '_save_checkpoints_steps': None, '_save_checkpoints_secs': 600, '_session_config': allow_soft_placement: true\n",
            "graph_options {\n",
            "  rewrite_options {\n",
            "    meta_optimizer_iterations: ONE\n",
            "  }\n",
            "}\n",
            ", '_keep_checkpoint_max': 5, '_keep_checkpoint_every_n_hours': 10000, '_log_step_count_steps': 100, '_train_distribute': None, '_device_fn': None, '_protocol': None, '_eval_distribute': None, '_experimental_distribute': None, '_experimental_max_worker_delay_secs': None, '_session_creation_timeout_secs': 7200, '_checkpoint_save_graph_def': True, '_service': None, '_cluster_spec': ClusterSpec({}), '_task_type': 'worker', '_task_id': 0, '_global_id_in_cluster': 0, '_master': '', '_evaluation_master': '', '_is_chief': True, '_num_ps_replicas': 0, '_num_worker_replicas': 1}\n",
            "WARNING:tensorflow:From /usr/local/lib/python3.7/dist-packages/tensorflow/python/training/training_util.py:236: Variable.initialized_value (from tensorflow.python.ops.variables) is deprecated and will be removed in a future version.\n",
            "Instructions for updating:\n",
            "Use Variable.read_value. Variables in 2.X are initialized automatically both in eager and graph (inside tf.defun) contexts.\n",
            "INFO:tensorflow:Calling model_fn.\n",
            "WARNING:tensorflow:From /usr/local/lib/python3.7/dist-packages/tensorflow/python/keras/optimizer_v2/adagrad.py:83: calling Constant.__init__ (from tensorflow.python.ops.init_ops) with dtype is deprecated and will be removed in a future version.\n",
            "Instructions for updating:\n",
            "Call initializer instance with the dtype argument instead of passing it to the constructor\n",
            "INFO:tensorflow:Done calling model_fn.\n",
            "INFO:tensorflow:Create CheckpointSaverHook.\n",
            "INFO:tensorflow:Graph was finalized.\n",
            "INFO:tensorflow:Running local_init_op.\n",
            "INFO:tensorflow:Done running local_init_op.\n",
            "INFO:tensorflow:Calling checkpoint listeners before saving checkpoint 0...\n",
            "INFO:tensorflow:Saving checkpoints for 0 into /tmp/tmp75ev2hjn/model.ckpt.\n",
            "INFO:tensorflow:Calling checkpoint listeners after saving checkpoint 0...\n",
            "INFO:tensorflow:loss = 1.4205723, step = 0\n",
            "INFO:tensorflow:global_step/sec: 511.371\n",
            "INFO:tensorflow:loss = 0.85459924, step = 100 (0.198 sec)\n",
            "INFO:tensorflow:global_step/sec: 608.631\n",
            "INFO:tensorflow:loss = 0.7335811, step = 200 (0.167 sec)\n",
            "INFO:tensorflow:global_step/sec: 546.892\n",
            "INFO:tensorflow:loss = 0.66344345, step = 300 (0.180 sec)\n",
            "INFO:tensorflow:global_step/sec: 563.957\n",
            "INFO:tensorflow:loss = 0.6115767, step = 400 (0.185 sec)\n",
            "INFO:tensorflow:global_step/sec: 558.814\n",
            "INFO:tensorflow:loss = 0.56253433, step = 500 (0.173 sec)\n",
            "INFO:tensorflow:global_step/sec: 575.032\n",
            "INFO:tensorflow:loss = 0.5504898, step = 600 (0.176 sec)\n",
            "INFO:tensorflow:global_step/sec: 561.881\n",
            "INFO:tensorflow:loss = 0.5225512, step = 700 (0.178 sec)\n",
            "INFO:tensorflow:global_step/sec: 583.083\n",
            "INFO:tensorflow:loss = 0.50636077, step = 800 (0.168 sec)\n",
            "INFO:tensorflow:global_step/sec: 571.633\n",
            "INFO:tensorflow:loss = 0.493522, step = 900 (0.176 sec)\n",
            "INFO:tensorflow:global_step/sec: 565.879\n",
            "INFO:tensorflow:loss = 0.47905654, step = 1000 (0.176 sec)\n",
            "INFO:tensorflow:global_step/sec: 599.436\n",
            "INFO:tensorflow:loss = 0.46189046, step = 1100 (0.169 sec)\n",
            "INFO:tensorflow:global_step/sec: 561.26\n",
            "INFO:tensorflow:loss = 0.45212978, step = 1200 (0.179 sec)\n",
            "INFO:tensorflow:global_step/sec: 614.524\n",
            "INFO:tensorflow:loss = 0.45148775, step = 1300 (0.159 sec)\n",
            "INFO:tensorflow:global_step/sec: 584.432\n",
            "INFO:tensorflow:loss = 0.43401396, step = 1400 (0.175 sec)\n",
            "INFO:tensorflow:global_step/sec: 570.619\n",
            "INFO:tensorflow:loss = 0.42776412, step = 1500 (0.174 sec)\n",
            "INFO:tensorflow:global_step/sec: 569.175\n",
            "INFO:tensorflow:loss = 0.4201903, step = 1600 (0.174 sec)\n",
            "INFO:tensorflow:global_step/sec: 580.573\n",
            "INFO:tensorflow:loss = 0.4130221, step = 1700 (0.175 sec)\n",
            "INFO:tensorflow:global_step/sec: 595.879\n",
            "INFO:tensorflow:loss = 0.39590737, step = 1800 (0.169 sec)\n",
            "INFO:tensorflow:global_step/sec: 586.227\n",
            "INFO:tensorflow:loss = 0.39894706, step = 1900 (0.167 sec)\n",
            "INFO:tensorflow:global_step/sec: 591.921\n",
            "INFO:tensorflow:loss = 0.37846318, step = 2000 (0.173 sec)\n",
            "INFO:tensorflow:global_step/sec: 578.495\n",
            "INFO:tensorflow:loss = 0.37574345, step = 2100 (0.169 sec)\n",
            "INFO:tensorflow:global_step/sec: 580.66\n",
            "INFO:tensorflow:loss = 0.35410285, step = 2200 (0.175 sec)\n",
            "INFO:tensorflow:global_step/sec: 569.428\n",
            "INFO:tensorflow:loss = 0.35898843, step = 2300 (0.175 sec)\n",
            "INFO:tensorflow:global_step/sec: 605.971\n",
            "INFO:tensorflow:loss = 0.3629588, step = 2400 (0.165 sec)\n",
            "INFO:tensorflow:global_step/sec: 579.384\n",
            "INFO:tensorflow:loss = 0.35668707, step = 2500 (0.170 sec)\n",
            "INFO:tensorflow:global_step/sec: 587.187\n",
            "INFO:tensorflow:loss = 0.35516733, step = 2600 (0.170 sec)\n",
            "INFO:tensorflow:global_step/sec: 593.833\n",
            "INFO:tensorflow:loss = 0.35112447, step = 2700 (0.171 sec)\n",
            "INFO:tensorflow:global_step/sec: 549.068\n",
            "INFO:tensorflow:loss = 0.33706385, step = 2800 (0.181 sec)\n",
            "INFO:tensorflow:global_step/sec: 612.467\n",
            "INFO:tensorflow:loss = 0.3431354, step = 2900 (0.161 sec)\n",
            "INFO:tensorflow:global_step/sec: 603.804\n",
            "INFO:tensorflow:loss = 0.32821047, step = 3000 (0.168 sec)\n",
            "INFO:tensorflow:global_step/sec: 553.194\n",
            "INFO:tensorflow:loss = 0.32117066, step = 3100 (0.178 sec)\n",
            "INFO:tensorflow:global_step/sec: 578.898\n",
            "INFO:tensorflow:loss = 0.33089742, step = 3200 (0.176 sec)\n",
            "INFO:tensorflow:global_step/sec: 590.522\n",
            "INFO:tensorflow:loss = 0.3194926, step = 3300 (0.169 sec)\n",
            "INFO:tensorflow:global_step/sec: 552.461\n",
            "INFO:tensorflow:loss = 0.30674434, step = 3400 (0.178 sec)\n",
            "INFO:tensorflow:global_step/sec: 619.027\n",
            "INFO:tensorflow:loss = 0.30848244, step = 3500 (0.167 sec)\n",
            "INFO:tensorflow:global_step/sec: 546.335\n",
            "INFO:tensorflow:loss = 0.3020712, step = 3600 (0.178 sec)\n",
            "INFO:tensorflow:global_step/sec: 584.462\n",
            "INFO:tensorflow:loss = 0.29953873, step = 3700 (0.174 sec)\n",
            "INFO:tensorflow:global_step/sec: 577.043\n",
            "INFO:tensorflow:loss = 0.3053107, step = 3800 (0.173 sec)\n",
            "INFO:tensorflow:global_step/sec: 611.063\n",
            "INFO:tensorflow:loss = 0.29892442, step = 3900 (0.163 sec)\n",
            "INFO:tensorflow:global_step/sec: 575.978\n",
            "INFO:tensorflow:loss = 0.29716772, step = 4000 (0.171 sec)\n",
            "INFO:tensorflow:global_step/sec: 547.595\n",
            "INFO:tensorflow:loss = 0.29574558, step = 4100 (0.185 sec)\n",
            "INFO:tensorflow:global_step/sec: 598.579\n",
            "INFO:tensorflow:loss = 0.28105184, step = 4200 (0.165 sec)\n",
            "INFO:tensorflow:global_step/sec: 568.181\n",
            "INFO:tensorflow:loss = 0.27662107, step = 4300 (0.175 sec)\n",
            "INFO:tensorflow:global_step/sec: 600.354\n",
            "INFO:tensorflow:loss = 0.28077745, step = 4400 (0.169 sec)\n",
            "INFO:tensorflow:global_step/sec: 594.83\n",
            "INFO:tensorflow:loss = 0.27476215, step = 4500 (0.169 sec)\n",
            "INFO:tensorflow:global_step/sec: 564.987\n",
            "INFO:tensorflow:loss = 0.27693903, step = 4600 (0.173 sec)\n",
            "INFO:tensorflow:global_step/sec: 589.714\n",
            "INFO:tensorflow:loss = 0.27404827, step = 4700 (0.173 sec)\n",
            "INFO:tensorflow:global_step/sec: 568.515\n",
            "INFO:tensorflow:loss = 0.27287185, step = 4800 (0.173 sec)\n",
            "INFO:tensorflow:global_step/sec: 584.748\n",
            "INFO:tensorflow:loss = 0.2639822, step = 4900 (0.178 sec)\n",
            "INFO:tensorflow:Calling checkpoint listeners before saving checkpoint 5000...\n",
            "INFO:tensorflow:Saving checkpoints for 5000 into /tmp/tmp75ev2hjn/model.ckpt.\n",
            "INFO:tensorflow:Calling checkpoint listeners after saving checkpoint 5000...\n",
            "INFO:tensorflow:Loss for final step: 0.2474499.\n",
            "INFO:tensorflow:Calling model_fn.\n",
            "INFO:tensorflow:Done calling model_fn.\n",
            "INFO:tensorflow:Starting evaluation at 2021-05-19T13:47:46Z\n",
            "INFO:tensorflow:Graph was finalized.\n",
            "INFO:tensorflow:Restoring parameters from /tmp/tmp75ev2hjn/model.ckpt-5000\n",
            "INFO:tensorflow:Running local_init_op.\n",
            "INFO:tensorflow:Done running local_init_op.\n",
            "INFO:tensorflow:Inference Time : 0.24669s\n",
            "INFO:tensorflow:Finished evaluation at 2021-05-19-13:47:46\n",
            "INFO:tensorflow:Saving dict for global step 5000: accuracy = 0.96666664, average_loss = 0.3039293, global_step = 5000, loss = 0.3039293\n",
            "INFO:tensorflow:Saving 'checkpoint_path' summary for global step 5000: /tmp/tmp75ev2hjn/model.ckpt-5000\n",
            "\n",
            "Test set accuracy: 0.967\n",
            "\n"
          ],
          "name": "stdout"
        }
      ]
    },
    {
      "cell_type": "code",
      "metadata": {
        "colab": {
          "base_uri": "https://localhost:8080/"
        },
        "id": "k1be9m5K4nJW",
        "outputId": "6dfdabb6-a42e-4d55-b4a2-25cf34a336c1"
      },
      "source": [
        "def input_fn(features, batch_size=256):\n",
        "    # Convert the inputs to a Dataset without labels.\n",
        "    return tf.data.Dataset.from_tensor_slices(dict(features)).batch(batch_size)\n",
        "\n",
        "features = ['SepalLength', 'SepalWidth', 'PetalLength', 'PetalWidth']\n",
        "predict = {}\n",
        "\n",
        "print(\"Please type numeric values as prompted.\")\n",
        "for feature in features:\n",
        "  valid = True\n",
        "  while valid: \n",
        "    val = input(feature + \": \")\n",
        "    if not val.isdigit(): valid = False\n",
        "\n",
        "  predict[feature] = [float(val)]\n",
        "\n",
        "predictions = classifier.predict(input_fn=lambda: input_fn(predict))\n",
        "for pred_dict in predictions:\n",
        "    class_id = pred_dict['class_ids'][0]\n",
        "    probability = pred_dict['probabilities'][class_id]\n",
        "\n",
        "    print('Prediction is \"{}\" ({:.1f}%)'.format(\n",
        "        SPECIES[class_id], 100 * probability))26"
      ],
      "execution_count": 10,
      "outputs": [
        {
          "output_type": "stream",
          "text": [
            "Please type numeric values as prompted.\n",
            "SepalLength: 2.4\n",
            "SepalWidth: 2.6\n",
            "PetalLength: 6.5\n",
            "PetalWidth: 6.3\n",
            "INFO:tensorflow:Calling model_fn.\n",
            "INFO:tensorflow:Done calling model_fn.\n",
            "INFO:tensorflow:Graph was finalized.\n",
            "INFO:tensorflow:Restoring parameters from /tmp/tmp75ev2hjn/model.ckpt-5000\n",
            "INFO:tensorflow:Running local_init_op.\n",
            "INFO:tensorflow:Done running local_init_op.\n",
            "Prediction is \"Virginica\" (98.6%)\n"
          ],
          "name": "stdout"
        }
      ]
    },
    {
      "cell_type": "code",
      "metadata": {
        "id": "JjWiUIUU6Ofl"
      },
      "source": [
        "# Here is some example input and expected classes you can try above\n",
        "expected = ['Setosa', 'Versicolor', 'Virginica']\n",
        "predict_x = {\n",
        "    'SepalLength': [5.1, 5.9, 6.9],\n",
        "    'SepalWidth': [3.3, 3.0, 3.1],\n",
        "    'PetalLength': [1.7, 4.2, 5.4],\n",
        "    'PetalWidth': [0.5, 1.5, 2.1],\n",
        "}"
      ],
      "execution_count": null,
      "outputs": []
    }
  ]
}