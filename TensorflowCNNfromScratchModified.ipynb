{
  "nbformat": 4,
  "nbformat_minor": 0,
  "metadata": {
    "colab": {
      "name": "TensorflowCNNfromScratch.ipynb",
      "provenance": [],
      "collapsed_sections": [],
      "authorship_tag": "ABX9TyM2aVczNfhl03R/k5KLUOZ9",
      "include_colab_link": true
    },
    "kernelspec": {
      "name": "python3",
      "display_name": "Python 3"
    },
    "language_info": {
      "name": "python"
    },
    "accelerator": "GPU"
  },
  "cells": [
    {
      "cell_type": "markdown",
      "metadata": {
        "id": "view-in-github",
        "colab_type": "text"
      },
      "source": [
        "<a href=\"https://colab.research.google.com/github/JibrilTheUltimateFlugel/TensorflowTest/blob/main/TensorflowCNNfromScratchModified.ipynb\" target=\"_parent\"><img src=\"https://colab.research.google.com/assets/colab-badge.svg\" alt=\"Open In Colab\"/></a>"
      ]
    },
    {
      "cell_type": "code",
      "metadata": {
        "id": "We6PJPZHJF4L"
      },
      "source": [
        "import numpy as np\n",
        "import tensorflow as tf\n",
        "import pandas as pd\n",
        "import os\n",
        "from keras.models import Sequential\n",
        "from keras.layers import Dense, Flatten, Conv2D, MaxPooling2D, Dropout\n",
        "import matplotlib.pyplot as plot\n",
        "from keras.datasets import cifar10"
      ],
      "execution_count": 1,
      "outputs": []
    },
    {
      "cell_type": "code",
      "metadata": {
        "id": "CTu7JvJ8NRcd"
      },
      "source": [
        "(train_img, train_lab), (test_img, test_lab) = cifar10.load_data()"
      ],
      "execution_count": 2,
      "outputs": []
    },
    {
      "cell_type": "code",
      "metadata": {
        "colab": {
          "base_uri": "https://localhost:8080/"
        },
        "id": "0CMSltQ5NWgw",
        "outputId": "fa7bde5a-d9cb-46af-e633-e1b06af73679"
      },
      "source": [
        "print(train_img.shape)\n",
        "print(test_img.shape)"
      ],
      "execution_count": 3,
      "outputs": [
        {
          "output_type": "stream",
          "text": [
            "(50000, 32, 32, 3)\n",
            "(10000, 32, 32, 3)\n"
          ],
          "name": "stdout"
        }
      ]
    },
    {
      "cell_type": "code",
      "metadata": {
        "id": "XfbTz36kQFdi"
      },
      "source": [
        "class_names = ['airplane', 'automobile', 'bird', 'cat', 'deer', 'dog', 'frog', 'horse', 'ship', 'truck']"
      ],
      "execution_count": 4,
      "outputs": []
    },
    {
      "cell_type": "code",
      "metadata": {
        "id": "WHWUCihDRZYA"
      },
      "source": [
        "train_img = train_img/255.0\n",
        "test_img = test_img/255.0"
      ],
      "execution_count": 5,
      "outputs": []
    },
    {
      "cell_type": "code",
      "metadata": {
        "id": "t9wrAXDMbLHI"
      },
      "source": [
        "#Ver 2.0 Using tf.data.Dataset and batching as well as shuffling\n",
        "train_dataset = tf.data.Dataset.from_tensor_slices((train_img,train_lab))\n",
        "train_dataset = train_dataset.shuffle(5000).batch(32)\n",
        "\n",
        "test_dataset = tf.data.Dataset.from_tensor_slices((test_img,test_lab))\n",
        "test_dataset = test_dataset.shuffle(1000).batch(32)"
      ],
      "execution_count": 6,
      "outputs": []
    },
    {
      "cell_type": "code",
      "metadata": {
        "id": "cBItEjnD_H5m"
      },
      "source": [
        "model = Sequential()\n",
        "model.add(Conv2D(64,(3,3), activation='relu', input_shape=(32,32,3)))\n",
        "model.add(MaxPooling2D((2,2)))\n",
        "model.add(Dropout(0.2))\n",
        "model.add(Conv2D(128,(3,3), activation='relu', input_shape=(32,32,3)))\n",
        "model.add(MaxPooling2D((2,2)))\n",
        "model.add(Dropout(0.2))\n",
        "model.add(Flatten())\n",
        "model.add(Dense(64, activation=\"relu\"))\n",
        "model.add(Dense(10, activation=\"softmax\"))"
      ],
      "execution_count": 7,
      "outputs": []
    },
    {
      "cell_type": "code",
      "metadata": {
        "id": "c5guvy3JEASZ"
      },
      "source": [
        "model.compile(optimizer=\"adam\",loss=\"sparse_categorical_crossentropy\",metrics=['accuracy'])"
      ],
      "execution_count": 8,
      "outputs": []
    },
    {
      "cell_type": "code",
      "metadata": {
        "colab": {
          "base_uri": "https://localhost:8080/"
        },
        "id": "IWlO352XF8Mg",
        "outputId": "7411588e-e006-483b-9669-443e2e11c796"
      },
      "source": [
        "#Now use the datasets to fit to the model!\n",
        "history = model.fit(train_dataset,epochs=10,validation_data=(test_dataset))\n",
        "model.save('cnnfromscratch.h5')"
      ],
      "execution_count": 9,
      "outputs": [
        {
          "output_type": "stream",
          "text": [
            "Epoch 1/10\n",
            "1563/1563 [==============================] - 48s 13ms/step - loss: 1.7366 - accuracy: 0.3669 - val_loss: 1.1880 - val_accuracy: 0.5812\n",
            "Epoch 2/10\n",
            "1563/1563 [==============================] - 19s 12ms/step - loss: 1.1778 - accuracy: 0.5838 - val_loss: 1.0542 - val_accuracy: 0.6328\n",
            "Epoch 3/10\n",
            "1563/1563 [==============================] - 19s 12ms/step - loss: 1.0336 - accuracy: 0.6379 - val_loss: 0.9531 - val_accuracy: 0.6705\n",
            "Epoch 4/10\n",
            "1563/1563 [==============================] - 19s 12ms/step - loss: 0.9448 - accuracy: 0.6717 - val_loss: 0.9363 - val_accuracy: 0.6754\n",
            "Epoch 5/10\n",
            "1563/1563 [==============================] - 15s 10ms/step - loss: 0.8833 - accuracy: 0.6913 - val_loss: 0.8886 - val_accuracy: 0.6978\n",
            "Epoch 6/10\n",
            "1563/1563 [==============================] - 17s 11ms/step - loss: 0.8387 - accuracy: 0.7102 - val_loss: 0.8621 - val_accuracy: 0.7049\n",
            "Epoch 7/10\n",
            "1563/1563 [==============================] - 18s 11ms/step - loss: 0.7845 - accuracy: 0.7281 - val_loss: 0.8500 - val_accuracy: 0.7069\n",
            "Epoch 8/10\n",
            "1563/1563 [==============================] - 19s 12ms/step - loss: 0.7457 - accuracy: 0.7362 - val_loss: 0.8369 - val_accuracy: 0.7136\n",
            "Epoch 9/10\n",
            "1563/1563 [==============================] - 15s 10ms/step - loss: 0.7159 - accuracy: 0.7502 - val_loss: 0.8323 - val_accuracy: 0.7168\n",
            "Epoch 10/10\n",
            "1563/1563 [==============================] - 15s 9ms/step - loss: 0.6967 - accuracy: 0.7564 - val_loss: 0.8278 - val_accuracy: 0.7184\n"
          ],
          "name": "stdout"
        }
      ]
    },
    {
      "cell_type": "code",
      "metadata": {
        "colab": {
          "base_uri": "https://localhost:8080/"
        },
        "id": "cWNNKwkR6Eu0",
        "outputId": "8c3db952-0200-41ac-a026-4b9f04ea5ae8"
      },
      "source": [
        "#Evaluating the model\n",
        "loss, accuracy = model.evaluate(train_dataset)\n",
        "print(\"Loss:\", loss)\n",
        "print(\"Accuracy:\", accuracy)"
      ],
      "execution_count": 10,
      "outputs": [
        {
          "output_type": "stream",
          "text": [
            "1563/1563 [==============================] - 12s 7ms/step - loss: 0.5457 - accuracy: 0.8123\n",
            "Loss: 0.545724630355835\n",
            "Accuracy: 0.8123000264167786\n"
          ],
          "name": "stdout"
        }
      ]
    },
    {
      "cell_type": "code",
      "metadata": {
        "colab": {
          "base_uri": "https://localhost:8080/",
          "height": 300
        },
        "id": "uJ1Wl7OwG-BS",
        "outputId": "775e0b58-2628-4d08-8a2c-6ce3928fc6c2"
      },
      "source": [
        "plot.plot(history.history['accuracy'], label='accuracy') \n",
        "plot.plot(history.history['val_accuracy'], label='validation accuracy')\n",
        "plot.xlabel('Epochs')\n",
        "plot.ylabel('Accuracy')\n",
        "plot.ylim([0.5,1])\n",
        "plot.legend(loc = 'lower right')"
      ],
      "execution_count": 12,
      "outputs": [
        {
          "output_type": "execute_result",
          "data": {
            "text/plain": [
              "<matplotlib.legend.Legend at 0x7f5b10034cd0>"
            ]
          },
          "metadata": {
            "tags": []
          },
          "execution_count": 12
        },
        {
          "output_type": "display_data",
          "data": {
            "image/png": "[encoded data removed]",
            "text/plain": [
              "<Figure size 432x288 with 1 Axes>"
            ]
          },
          "metadata": {
            "tags": [],
            "needs_background": "light"
          }
        }
      ]
    }
  ]
}