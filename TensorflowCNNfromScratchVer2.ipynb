{
  "nbformat": 4,
  "nbformat_minor": 0,
  "metadata": {
    "colab": {
      "name": "TensorflowCNNfromScratch.ipynb",
      "provenance": [],
      "collapsed_sections": [],
      "authorship_tag": "ABX9TyNvwTHnx2AZiKKx+FDnorrJ",
      "include_colab_link": true
    },
    "kernelspec": {
      "name": "python3",
      "display_name": "Python 3"
    },
    "language_info": {
      "name": "python"
    },
    "accelerator": "GPU"
  },
  "cells": [
    {
      "cell_type": "markdown",
      "metadata": {
        "id": "view-in-github",
        "colab_type": "text"
      },
      "source": [
        "<a href=\"https://colab.research.google.com/github/JibrilTheUltimateFlugel/TensorflowTest/blob/main/TensorflowCNNfromScratchVer2.ipynb\" target=\"_parent\"><img src=\"https://colab.research.google.com/assets/colab-badge.svg\" alt=\"Open In Colab\"/></a>"
      ]
    },
    {
      "cell_type": "code",
      "metadata": {
        "id": "We6PJPZHJF4L"
      },
      "source": [
        "import numpy as np\n",
        "import tensorflow as tf\n",
        "import pandas as pd\n",
        "import os\n",
        "from keras.models import Sequential\n",
        "from keras.layers import Dense, Flatten, Conv2D, MaxPooling2D, Dropout\n",
        "import matplotlib.pyplot as plot\n",
        "from keras.datasets import cifar10"
      ],
      "execution_count": 1,
      "outputs": []
    },
    {
      "cell_type": "code",
      "metadata": {
        "id": "CTu7JvJ8NRcd",
        "colab": {
          "base_uri": "https://localhost:8080/"
        },
        "outputId": "a15650a9-63d9-4a26-d36a-68f98ea7ec7b"
      },
      "source": [
        "(train_img, train_lab), (test_img, test_lab) = cifar10.load_data()"
      ],
      "execution_count": 2,
      "outputs": [
        {
          "output_type": "stream",
          "text": [
            "Downloading data from https://www.cs.toronto.edu/~kriz/cifar-10-python.tar.gz\n",
            "170500096/170498071 [==============================] - 3s 0us/step\n",
            "170508288/170498071 [==============================] - 3s 0us/step\n"
          ],
          "name": "stdout"
        }
      ]
    },
    {
      "cell_type": "code",
      "metadata": {
        "colab": {
          "base_uri": "https://localhost:8080/"
        },
        "id": "0CMSltQ5NWgw",
        "outputId": "8660722b-7bb4-4200-b9cc-49b384e7d3ec"
      },
      "source": [
        "print(train_img.shape)\n",
        "print(test_img.shape)"
      ],
      "execution_count": 3,
      "outputs": [
        {
          "output_type": "stream",
          "text": [
            "(50000, 32, 32, 3)\n",
            "(10000, 32, 32, 3)\n"
          ],
          "name": "stdout"
        }
      ]
    },
    {
      "cell_type": "code",
      "metadata": {
        "id": "XfbTz36kQFdi"
      },
      "source": [
        "class_names = ['airplane', 'automobile', 'bird', 'cat', 'deer', 'dog', 'frog', 'horse', 'ship', 'truck']"
      ],
      "execution_count": 5,
      "outputs": []
    },
    {
      "cell_type": "code",
      "metadata": {
        "id": "WHWUCihDRZYA"
      },
      "source": [
        "train_img = train_img/255.0\n",
        "test_img = test_img/255.0"
      ],
      "execution_count": 6,
      "outputs": []
    },
    {
      "cell_type": "code",
      "metadata": {
        "id": "t9wrAXDMbLHI"
      },
      "source": [
        "#Ver 2.0 Using tf.data.Dataset and batching as well as shuffling\n",
        "train_dataset = tf.data.Dataset.from_tensor_slices((train_img,train_lab))\n",
        "train_dataset = train_dataset.shuffle(50000).batch(32)\n",
        "\n",
        "test_dataset = tf.data.Dataset.from_tensor_slices((test_img,test_lab))\n",
        "test_dataset = test_dataset.shuffle(10000).batch(32)"
      ],
      "execution_count": 7,
      "outputs": []
    },
    {
      "cell_type": "code",
      "metadata": {
        "id": "cBItEjnD_H5m"
      },
      "source": [
        "model = Sequential()\n",
        "model.add(Conv2D(64,(3,3), activation='relu', input_shape=(32,32,3)))\n",
        "model.add(MaxPooling2D((2,2)))\n",
        "model.add(Dropout(0.2))\n",
        "model.add(Conv2D(128,(3,3), activation='relu', input_shape=(32,32,3)))\n",
        "model.add(MaxPooling2D((2,2)))\n",
        "model.add(Dropout(0.2))\n",
        "model.add(Flatten())\n",
        "model.add(Dense(64, activation=\"relu\"))\n",
        "model.add(Dense(10, activation=\"softmax\"))"
      ],
      "execution_count": 8,
      "outputs": []
    },
    {
      "cell_type": "code",
      "metadata": {
        "id": "c5guvy3JEASZ"
      },
      "source": [
        "model.compile(optimizer=\"adam\",loss=\"sparse_categorical_crossentropy\",metrics=['accuracy'])"
      ],
      "execution_count": 9,
      "outputs": []
    },
    {
      "cell_type": "code",
      "metadata": {
        "colab": {
          "base_uri": "https://localhost:8080/"
        },
        "id": "IWlO352XF8Mg",
        "outputId": "6d4c8734-8e23-4938-8708-326449efac9c"
      },
      "source": [
        "#Now use the datasets to fit to the model!\n",
        "history = model.fit(train_dataset,epochs=10,validation_data=(test_dataset))\n",
        "model.save('cnnfromscratch.h5')"
      ],
      "execution_count": 10,
      "outputs": [
        {
          "output_type": "stream",
          "text": [
            "Epoch 1/10\n",
            "1563/1563 [==============================] - 48s 4ms/step - loss: 1.6830 - accuracy: 0.3818 - val_loss: 1.2716 - val_accuracy: 0.5365\n",
            "Epoch 2/10\n",
            "1563/1563 [==============================] - 11s 7ms/step - loss: 1.1535 - accuracy: 0.5930 - val_loss: 0.9972 - val_accuracy: 0.6520\n",
            "Epoch 3/10\n",
            "1563/1563 [==============================] - 7s 4ms/step - loss: 0.9915 - accuracy: 0.6553 - val_loss: 0.9669 - val_accuracy: 0.6683\n",
            "Epoch 4/10\n",
            "1563/1563 [==============================] - 7s 4ms/step - loss: 0.8970 - accuracy: 0.6877 - val_loss: 0.9244 - val_accuracy: 0.6813\n",
            "Epoch 5/10\n",
            "1563/1563 [==============================] - 7s 4ms/step - loss: 0.8392 - accuracy: 0.7093 - val_loss: 0.8608 - val_accuracy: 0.7061\n",
            "Epoch 6/10\n",
            "1563/1563 [==============================] - 11s 7ms/step - loss: 0.7742 - accuracy: 0.7298 - val_loss: 0.8361 - val_accuracy: 0.7156\n",
            "Epoch 7/10\n",
            "1563/1563 [==============================] - 11s 7ms/step - loss: 0.7333 - accuracy: 0.7443 - val_loss: 0.8546 - val_accuracy: 0.7095\n",
            "Epoch 8/10\n",
            "1563/1563 [==============================] - 11s 7ms/step - loss: 0.6913 - accuracy: 0.7568 - val_loss: 0.8050 - val_accuracy: 0.7280\n",
            "Epoch 9/10\n",
            "1563/1563 [==============================] - 11s 7ms/step - loss: 0.6538 - accuracy: 0.7695 - val_loss: 0.8271 - val_accuracy: 0.7212\n",
            "Epoch 10/10\n",
            "1563/1563 [==============================] - 11s 7ms/step - loss: 0.6430 - accuracy: 0.7727 - val_loss: 0.8130 - val_accuracy: 0.7271\n"
          ],
          "name": "stdout"
        }
      ]
    },
    {
      "cell_type": "code",
      "metadata": {
        "id": "DkSaOCS3U1eH"
      },
      "source": [
        "# plot diagnostic learning curves\n",
        "def summarize_diagnostics(history):\n",
        "\t# plot loss\n",
        "\tplot.subplot(211)\n",
        "\tplot.title('Cross Entropy Loss')\n",
        "\tplot.plot(history.history['loss'], color='blue', label='train')\n",
        "\tplot.plot(history.history['val_loss'], color='orange', label='test')\n",
        "\t# plot accuracy\n",
        "\tplot.subplot(212)\n",
        "\tplot.title('Classification Accuracy')\n",
        "\tplot.plot(history.history['accuracy'], color='blue', label='train')\n",
        "\tplot.plot(history.history['val_accuracy'], color='orange', label='test')\n",
        "\t# save plot to file\n",
        "\t#filename = sys.argv[0].split('/')[-1]\n",
        "\t#pyplot.savefig(filename + '_plot.png')\n",
        "\t#pyplot.close()"
      ],
      "execution_count": 14,
      "outputs": []
    },
    {
      "cell_type": "code",
      "metadata": {
        "colab": {
          "base_uri": "https://localhost:8080/",
          "height": 281
        },
        "id": "H5cQ86b46cfT",
        "outputId": "ac4f377a-3b44-4d42-de5a-29a1950b762a"
      },
      "source": [
        "summarize_diagnostics(history)"
      ],
      "execution_count": 15,
      "outputs": [
        {
          "output_type": "display_data",
          "data": {
            "image/png": "[encoded data removed]",
            "text/plain": [
              "<Figure size 432x288 with 2 Axes>"
            ]
          },
          "metadata": {
            "tags": [],
            "needs_background": "light"
          }
        }
      ]
    },
    {
      "cell_type": "code",
      "metadata": {
        "colab": {
          "base_uri": "https://localhost:8080/"
        },
        "id": "cWNNKwkR6Eu0",
        "outputId": "f3b4ee73-99ef-4400-de20-39434d56b41f"
      },
      "source": [
        "#Evaluating the model\n",
        "loss, accuracy = model.evaluate(train_dataset)\n",
        "print(\"Loss:\", loss)\n",
        "print(\"Accuracy:\", accuracy)"
      ],
      "execution_count": 16,
      "outputs": [
        {
          "output_type": "stream",
          "text": [
            "1563/1563 [==============================] - 9s 5ms/step - loss: 0.5080 - accuracy: 0.8297\n",
            "Loss: 0.5080166459083557\n",
            "Accuracy: 0.8297200202941895\n"
          ],
          "name": "stdout"
        }
      ]
    },
    {
      "cell_type": "code",
      "metadata": {
        "colab": {
          "base_uri": "https://localhost:8080/",
          "height": 300
        },
        "id": "uJ1Wl7OwG-BS",
        "outputId": "3398e2cc-06b4-4609-dfe7-0724b5cf0dbd"
      },
      "source": [
        "plot.plot(history.history['accuracy'], label='accuracy') \n",
        "plot.plot(history.history['val_accuracy'], label='validation accuracy')\n",
        "plot.xlabel('Epochs')\n",
        "plot.ylabel('Accuracy')\n",
        "plot.ylim([0.5,1])\n",
        "plot.legend(loc = 'lower right')"
      ],
      "execution_count": 18,
      "outputs": [
        {
          "output_type": "execute_result",
          "data": {
            "text/plain": [
              "<matplotlib.legend.Legend at 0x7f7d0a375750>"
            ]
          },
          "metadata": {
            "tags": []
          },
          "execution_count": 18
        },
        {
          "output_type": "display_data",
          "data": {
            "image/png": "[encoded data removed]",
            "text/plain": [
              "<Figure size 432x288 with 1 Axes>"
            ]
          },
          "metadata": {
            "tags": [],
            "needs_background": "light"
          }
        }
      ]
    },
    {
      "cell_type": "code",
      "metadata": {
        "colab": {
          "base_uri": "https://localhost:8080/",
          "height": 300
        },
        "id": "CdEnlt_dVTNf",
        "outputId": "4ca5e4de-68c5-4bde-a0c2-65f566bb0fe7"
      },
      "source": [
        "plot.plot(history.history['loss'], label='loss') \n",
        "plot.plot(history.history['val_loss'], label='validation loss')\n",
        "plot.xlabel('Epochs')\n",
        "plot.ylabel('Loss')\n",
        "plot.ylim([0.5,1])\n",
        "plot.legend(loc = 'lower right')"
      ],
      "execution_count": 19,
      "outputs": [
        {
          "output_type": "execute_result",
          "data": {
            "text/plain": [
              "<matplotlib.legend.Legend at 0x7f7d0a2fbc90>"
            ]
          },
          "metadata": {
            "tags": []
          },
          "execution_count": 19
        },
        {
          "output_type": "display_data",
          "data": {
            "image/png": "[encoded data removed]",
            "text/plain": [
              "<Figure size 432x288 with 1 Axes>"
            ]
          },
          "metadata": {
            "tags": [],
            "needs_background": "light"
          }
        }
      ]
    }
  ]
}