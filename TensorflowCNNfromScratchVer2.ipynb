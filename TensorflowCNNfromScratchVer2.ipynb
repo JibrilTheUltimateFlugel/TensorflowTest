{
  "nbformat": 4,
  "nbformat_minor": 0,
  "metadata": {
    "colab": {
      "name": "TensorflowCNNfromScratch.ipynb",
      "provenance": [],
      "collapsed_sections": [],
      "authorship_tag": "ABX9TyMO/qr/GZSSVw+M3AhjRGkv",
      "include_colab_link": true
    },
    "kernelspec": {
      "name": "python3",
      "display_name": "Python 3"
    },
    "language_info": {
      "name": "python"
    },
    "accelerator": "GPU"
  },
  "cells": [
    {
      "cell_type": "markdown",
      "metadata": {
        "id": "view-in-github",
        "colab_type": "text"
      },
      "source": [
        "<a href=\"https://colab.research.google.com/github/JibrilTheUltimateFlugel/TensorflowTest/blob/main/TensorflowCNNfromScratchVer2.ipynb\" target=\"_parent\"><img src=\"https://colab.research.google.com/assets/colab-badge.svg\" alt=\"Open In Colab\"/></a>"
      ]
    },
    {
      "cell_type": "code",
      "metadata": {
        "id": "We6PJPZHJF4L"
      },
      "source": [
        "import numpy as np\n",
        "import tensorflow as tf\n",
        "import pandas as pd\n",
        "import os\n",
        "from keras.models import Sequential\n",
        "from keras.layers import Dense, Flatten, Conv2D, MaxPooling2D, Dropout\n",
        "import matplotlib.pyplot as plot\n",
        "from keras.datasets import cifar10"
      ],
      "execution_count": 1,
      "outputs": []
    },
    {
      "cell_type": "code",
      "metadata": {
        "id": "CTu7JvJ8NRcd",
        "colab": {
          "base_uri": "https://localhost:8080/"
        },
        "outputId": "a15650a9-63d9-4a26-d36a-68f98ea7ec7b"
      },
      "source": [
        "(train_img, train_lab), (test_img, test_lab) = cifar10.load_data()"
      ],
      "execution_count": 2,
      "outputs": [
        {
          "output_type": "stream",
          "text": [
            "Downloading data from https://www.cs.toronto.edu/~kriz/cifar-10-python.tar.gz\n",
            "170500096/170498071 [==============================] - 3s 0us/step\n",
            "170508288/170498071 [==============================] - 3s 0us/step\n"
          ],
          "name": "stdout"
        }
      ]
    },
    {
      "cell_type": "code",
      "metadata": {
        "colab": {
          "base_uri": "https://localhost:8080/"
        },
        "id": "0CMSltQ5NWgw",
        "outputId": "8660722b-7bb4-4200-b9cc-49b384e7d3ec"
      },
      "source": [
        "print(train_img.shape)\n",
        "print(test_img.shape)"
      ],
      "execution_count": 3,
      "outputs": [
        {
          "output_type": "stream",
          "text": [
            "(50000, 32, 32, 3)\n",
            "(10000, 32, 32, 3)\n"
          ],
          "name": "stdout"
        }
      ]
    },
    {
      "cell_type": "code",
      "metadata": {
        "id": "XfbTz36kQFdi"
      },
      "source": [
        "class_names = ['airplane', 'automobile', 'bird', 'cat', 'deer', 'dog', 'frog', 'horse', 'ship', 'truck']"
      ],
      "execution_count": 5,
      "outputs": []
    },
    {
      "cell_type": "code",
      "metadata": {
        "id": "WHWUCihDRZYA"
      },
      "source": [
        "train_img = train_img/255.0\n",
        "test_img = test_img/255.0"
      ],
      "execution_count": 6,
      "outputs": []
    },
    {
      "cell_type": "code",
      "metadata": {
        "id": "t9wrAXDMbLHI"
      },
      "source": [
        "#Ver 2.0 Using tf.data.Dataset and batching as well as shuffling\n",
        "train_dataset = tf.data.Dataset.from_tensor_slices((train_img,train_lab))\n",
        "train_dataset = train_dataset.shuffle(50000).batch(32)\n",
        "\n",
        "test_dataset = tf.data.Dataset.from_tensor_slices((test_img,test_lab))\n",
        "test_dataset = test_dataset.shuffle(10000).batch(32)"
      ],
      "execution_count": 7,
      "outputs": []
    },
    {
      "cell_type": "code",
      "metadata": {
        "id": "cBItEjnD_H5m"
      },
      "source": [
        "model = Sequential()\n",
        "model.add(Conv2D(64,(3,3), activation='relu', input_shape=(32,32,3)))\n",
        "model.add(MaxPooling2D((2,2)))\n",
        "model.add(Dropout(0.2))\n",
        "model.add(Conv2D(128,(3,3), activation='relu', input_shape=(32,32,3)))\n",
        "model.add(MaxPooling2D((2,2)))\n",
        "model.add(Dropout(0.2))\n",
        "model.add(Flatten())\n",
        "model.add(Dense(64, activation=\"relu\"))\n",
        "model.add(Dense(10, activation=\"softmax\"))"
      ],
      "execution_count": 8,
      "outputs": []
    },
    {
      "cell_type": "code",
      "metadata": {
        "id": "c5guvy3JEASZ"
      },
      "source": [
        "model.compile(optimizer=\"adam\",loss=\"sparse_categorical_crossentropy\",metrics=['accuracy'])"
      ],
      "execution_count": 9,
      "outputs": []
    },
    {
      "cell_type": "code",
      "metadata": {
        "colab": {
          "base_uri": "https://localhost:8080/"
        },
        "id": "IWlO352XF8Mg",
        "outputId": "342364a1-67e1-462e-b1e8-1293d6d2022d"
      },
      "source": [
        "#Now use the datasets to fit to the model!\n",
        "history = model.fit(train_dataset,epochs=100,validation_data=(test_dataset))\n",
        "model.save('cnnfromscratch.h5')"
      ],
      "execution_count": 20,
      "outputs": [
        {
          "output_type": "stream",
          "text": [
            "Epoch 1/100\n",
            "1563/1563 [==============================] - 7s 4ms/step - loss: 0.6270 - accuracy: 0.7806 - val_loss: 0.8022 - val_accuracy: 0.7217\n",
            "Epoch 2/100\n",
            "1563/1563 [==============================] - 7s 4ms/step - loss: 0.6047 - accuracy: 0.7883 - val_loss: 0.8179 - val_accuracy: 0.7208\n",
            "Epoch 3/100\n",
            "1563/1563 [==============================] - 7s 4ms/step - loss: 0.5828 - accuracy: 0.7943 - val_loss: 0.8160 - val_accuracy: 0.7293\n",
            "Epoch 4/100\n",
            "1563/1563 [==============================] - 7s 4ms/step - loss: 0.5601 - accuracy: 0.8029 - val_loss: 0.8160 - val_accuracy: 0.7310\n",
            "Epoch 5/100\n",
            "1563/1563 [==============================] - 7s 4ms/step - loss: 0.5424 - accuracy: 0.8069 - val_loss: 0.8006 - val_accuracy: 0.7385\n",
            "Epoch 6/100\n",
            "1563/1563 [==============================] - 7s 4ms/step - loss: 0.5223 - accuracy: 0.8149 - val_loss: 0.8051 - val_accuracy: 0.7353\n",
            "Epoch 7/100\n",
            "1563/1563 [==============================] - 7s 4ms/step - loss: 0.5135 - accuracy: 0.8170 - val_loss: 0.8198 - val_accuracy: 0.7272\n",
            "Epoch 8/100\n",
            "1563/1563 [==============================] - 7s 4ms/step - loss: 0.4913 - accuracy: 0.8243 - val_loss: 0.8378 - val_accuracy: 0.7347\n",
            "Epoch 9/100\n",
            "1563/1563 [==============================] - 7s 4ms/step - loss: 0.4732 - accuracy: 0.8315 - val_loss: 0.8292 - val_accuracy: 0.7397\n",
            "Epoch 10/100\n",
            "1563/1563 [==============================] - 11s 7ms/step - loss: 0.4590 - accuracy: 0.8374 - val_loss: 0.8350 - val_accuracy: 0.7363\n",
            "Epoch 11/100\n",
            "1563/1563 [==============================] - 11s 7ms/step - loss: 0.4440 - accuracy: 0.8417 - val_loss: 0.8743 - val_accuracy: 0.7308\n",
            "Epoch 12/100\n",
            "1563/1563 [==============================] - 10s 6ms/step - loss: 0.4331 - accuracy: 0.8470 - val_loss: 0.8574 - val_accuracy: 0.7304\n",
            "Epoch 13/100\n",
            "1563/1563 [==============================] - 11s 7ms/step - loss: 0.4231 - accuracy: 0.8511 - val_loss: 0.8547 - val_accuracy: 0.7426\n",
            "Epoch 14/100\n",
            "1563/1563 [==============================] - 11s 7ms/step - loss: 0.4098 - accuracy: 0.8532 - val_loss: 0.8565 - val_accuracy: 0.7363\n",
            "Epoch 15/100\n",
            "1563/1563 [==============================] - 11s 7ms/step - loss: 0.3969 - accuracy: 0.8587 - val_loss: 0.8572 - val_accuracy: 0.7414\n",
            "Epoch 16/100\n",
            "1563/1563 [==============================] - 10s 6ms/step - loss: 0.3937 - accuracy: 0.8593 - val_loss: 0.8699 - val_accuracy: 0.7357\n",
            "Epoch 17/100\n",
            "1563/1563 [==============================] - 11s 7ms/step - loss: 0.3841 - accuracy: 0.8634 - val_loss: 0.9020 - val_accuracy: 0.7249\n",
            "Epoch 18/100\n",
            "1563/1563 [==============================] - 11s 7ms/step - loss: 0.3716 - accuracy: 0.8677 - val_loss: 0.9045 - val_accuracy: 0.7344\n",
            "Epoch 19/100\n",
            "1563/1563 [==============================] - 11s 7ms/step - loss: 0.3618 - accuracy: 0.8708 - val_loss: 0.9013 - val_accuracy: 0.7365\n",
            "Epoch 20/100\n",
            "1563/1563 [==============================] - 11s 7ms/step - loss: 0.3642 - accuracy: 0.8704 - val_loss: 0.9063 - val_accuracy: 0.7312\n",
            "Epoch 21/100\n",
            "1563/1563 [==============================] - 11s 7ms/step - loss: 0.3537 - accuracy: 0.8732 - val_loss: 0.9320 - val_accuracy: 0.7359\n",
            "Epoch 22/100\n",
            "1563/1563 [==============================] - 11s 7ms/step - loss: 0.3427 - accuracy: 0.8782 - val_loss: 0.9266 - val_accuracy: 0.7378\n",
            "Epoch 23/100\n",
            "1563/1563 [==============================] - 11s 7ms/step - loss: 0.3444 - accuracy: 0.8789 - val_loss: 0.9364 - val_accuracy: 0.7388\n",
            "Epoch 24/100\n",
            "1563/1563 [==============================] - 11s 7ms/step - loss: 0.3321 - accuracy: 0.8821 - val_loss: 0.9334 - val_accuracy: 0.7319\n",
            "Epoch 25/100\n",
            "1563/1563 [==============================] - 11s 7ms/step - loss: 0.3296 - accuracy: 0.8824 - val_loss: 0.9416 - val_accuracy: 0.7343\n",
            "Epoch 26/100\n",
            "1563/1563 [==============================] - 10s 6ms/step - loss: 0.3236 - accuracy: 0.8849 - val_loss: 0.9547 - val_accuracy: 0.7311\n",
            "Epoch 27/100\n",
            "1563/1563 [==============================] - 11s 7ms/step - loss: 0.3152 - accuracy: 0.8879 - val_loss: 0.9827 - val_accuracy: 0.7365\n",
            "Epoch 28/100\n",
            "1563/1563 [==============================] - 11s 7ms/step - loss: 0.3107 - accuracy: 0.8884 - val_loss: 0.9826 - val_accuracy: 0.7315\n",
            "Epoch 29/100\n",
            "1563/1563 [==============================] - 11s 6ms/step - loss: 0.3046 - accuracy: 0.8920 - val_loss: 1.0061 - val_accuracy: 0.7300\n",
            "Epoch 30/100\n",
            "1563/1563 [==============================] - 11s 7ms/step - loss: 0.3037 - accuracy: 0.8910 - val_loss: 0.9709 - val_accuracy: 0.7335\n",
            "Epoch 31/100\n",
            "1563/1563 [==============================] - 11s 7ms/step - loss: 0.2949 - accuracy: 0.8950 - val_loss: 0.9951 - val_accuracy: 0.7392\n",
            "Epoch 32/100\n",
            "1563/1563 [==============================] - 11s 7ms/step - loss: 0.2885 - accuracy: 0.8974 - val_loss: 1.0427 - val_accuracy: 0.7291\n",
            "Epoch 33/100\n",
            "1563/1563 [==============================] - 11s 7ms/step - loss: 0.2880 - accuracy: 0.8970 - val_loss: 1.0212 - val_accuracy: 0.7347\n",
            "Epoch 34/100\n",
            "1563/1563 [==============================] - 11s 7ms/step - loss: 0.2841 - accuracy: 0.8983 - val_loss: 1.0285 - val_accuracy: 0.7280\n",
            "Epoch 35/100\n",
            "1563/1563 [==============================] - 11s 7ms/step - loss: 0.2775 - accuracy: 0.9009 - val_loss: 1.0373 - val_accuracy: 0.7327\n",
            "Epoch 36/100\n",
            "1563/1563 [==============================] - 11s 7ms/step - loss: 0.2740 - accuracy: 0.9033 - val_loss: 0.9990 - val_accuracy: 0.7356\n",
            "Epoch 37/100\n",
            "1563/1563 [==============================] - 11s 7ms/step - loss: 0.2761 - accuracy: 0.9015 - val_loss: 1.0230 - val_accuracy: 0.7355\n",
            "Epoch 38/100\n",
            "1563/1563 [==============================] - 11s 7ms/step - loss: 0.2711 - accuracy: 0.9037 - val_loss: 1.0337 - val_accuracy: 0.7344\n",
            "Epoch 39/100\n",
            "1563/1563 [==============================] - 10s 6ms/step - loss: 0.2731 - accuracy: 0.9018 - val_loss: 1.0780 - val_accuracy: 0.7174\n",
            "Epoch 40/100\n",
            "1563/1563 [==============================] - 12s 7ms/step - loss: 0.2575 - accuracy: 0.9086 - val_loss: 1.0660 - val_accuracy: 0.7360\n",
            "Epoch 41/100\n",
            "1563/1563 [==============================] - 11s 7ms/step - loss: 0.2637 - accuracy: 0.9051 - val_loss: 1.0596 - val_accuracy: 0.7356\n",
            "Epoch 42/100\n",
            "1563/1563 [==============================] - 11s 7ms/step - loss: 0.2553 - accuracy: 0.9092 - val_loss: 1.1217 - val_accuracy: 0.7309\n",
            "Epoch 43/100\n",
            "1563/1563 [==============================] - 11s 7ms/step - loss: 0.2591 - accuracy: 0.9081 - val_loss: 1.1144 - val_accuracy: 0.7318\n",
            "Epoch 44/100\n",
            "1563/1563 [==============================] - 11s 7ms/step - loss: 0.2485 - accuracy: 0.9127 - val_loss: 1.0921 - val_accuracy: 0.7321\n",
            "Epoch 45/100\n",
            "1563/1563 [==============================] - 11s 7ms/step - loss: 0.2567 - accuracy: 0.9101 - val_loss: 1.0966 - val_accuracy: 0.7325\n",
            "Epoch 46/100\n",
            "1563/1563 [==============================] - 11s 7ms/step - loss: 0.2505 - accuracy: 0.9103 - val_loss: 1.0900 - val_accuracy: 0.7338\n",
            "Epoch 47/100\n",
            "1563/1563 [==============================] - 11s 7ms/step - loss: 0.2406 - accuracy: 0.9137 - val_loss: 1.0895 - val_accuracy: 0.7324\n",
            "Epoch 48/100\n",
            "1563/1563 [==============================] - 11s 6ms/step - loss: 0.2438 - accuracy: 0.9136 - val_loss: 1.0598 - val_accuracy: 0.7278\n",
            "Epoch 49/100\n",
            "1563/1563 [==============================] - 11s 7ms/step - loss: 0.2388 - accuracy: 0.9164 - val_loss: 1.1048 - val_accuracy: 0.7341\n",
            "Epoch 50/100\n",
            "1563/1563 [==============================] - 11s 7ms/step - loss: 0.2410 - accuracy: 0.9137 - val_loss: 1.1391 - val_accuracy: 0.7351\n",
            "Epoch 51/100\n",
            "1563/1563 [==============================] - 11s 7ms/step - loss: 0.2374 - accuracy: 0.9172 - val_loss: 1.1106 - val_accuracy: 0.7351\n",
            "Epoch 52/100\n",
            "1563/1563 [==============================] - 11s 7ms/step - loss: 0.2385 - accuracy: 0.9163 - val_loss: 1.0861 - val_accuracy: 0.7353\n",
            "Epoch 53/100\n",
            "1563/1563 [==============================] - 11s 7ms/step - loss: 0.2307 - accuracy: 0.9186 - val_loss: 1.0947 - val_accuracy: 0.7370\n",
            "Epoch 54/100\n",
            "1563/1563 [==============================] - 11s 7ms/step - loss: 0.2291 - accuracy: 0.9183 - val_loss: 1.1153 - val_accuracy: 0.7284\n",
            "Epoch 55/100\n",
            "1563/1563 [==============================] - 11s 7ms/step - loss: 0.2317 - accuracy: 0.9184 - val_loss: 1.1694 - val_accuracy: 0.7199\n",
            "Epoch 56/100\n",
            "1563/1563 [==============================] - 11s 7ms/step - loss: 0.2313 - accuracy: 0.9169 - val_loss: 1.1783 - val_accuracy: 0.7367\n",
            "Epoch 57/100\n",
            "1563/1563 [==============================] - 11s 7ms/step - loss: 0.2278 - accuracy: 0.9192 - val_loss: 1.1321 - val_accuracy: 0.7339\n",
            "Epoch 58/100\n",
            "1563/1563 [==============================] - 11s 7ms/step - loss: 0.2270 - accuracy: 0.9193 - val_loss: 1.1426 - val_accuracy: 0.7326\n",
            "Epoch 59/100\n",
            "1563/1563 [==============================] - 11s 6ms/step - loss: 0.2216 - accuracy: 0.9218 - val_loss: 1.1615 - val_accuracy: 0.7246\n",
            "Epoch 60/100\n",
            "1563/1563 [==============================] - 11s 7ms/step - loss: 0.2250 - accuracy: 0.9208 - val_loss: 1.1441 - val_accuracy: 0.7266\n",
            "Epoch 61/100\n",
            "1563/1563 [==============================] - 11s 6ms/step - loss: 0.2221 - accuracy: 0.9217 - val_loss: 1.1652 - val_accuracy: 0.7262\n",
            "Epoch 62/100\n",
            "1563/1563 [==============================] - 11s 7ms/step - loss: 0.2221 - accuracy: 0.9215 - val_loss: 1.1358 - val_accuracy: 0.7346\n",
            "Epoch 63/100\n",
            "1563/1563 [==============================] - 11s 7ms/step - loss: 0.2204 - accuracy: 0.9229 - val_loss: 1.1619 - val_accuracy: 0.7316\n",
            "Epoch 64/100\n",
            "1563/1563 [==============================] - 11s 7ms/step - loss: 0.2185 - accuracy: 0.9231 - val_loss: 1.1182 - val_accuracy: 0.7281\n",
            "Epoch 65/100\n",
            "1563/1563 [==============================] - 11s 7ms/step - loss: 0.2160 - accuracy: 0.9234 - val_loss: 1.1865 - val_accuracy: 0.7277\n",
            "Epoch 66/100\n",
            "1563/1563 [==============================] - 11s 7ms/step - loss: 0.2110 - accuracy: 0.9253 - val_loss: 1.2140 - val_accuracy: 0.7317\n",
            "Epoch 67/100\n",
            "1563/1563 [==============================] - 11s 7ms/step - loss: 0.2118 - accuracy: 0.9250 - val_loss: 1.1958 - val_accuracy: 0.7328\n",
            "Epoch 68/100\n",
            "1563/1563 [==============================] - 11s 7ms/step - loss: 0.2168 - accuracy: 0.9229 - val_loss: 1.2193 - val_accuracy: 0.7257\n",
            "Epoch 69/100\n",
            "1563/1563 [==============================] - 11s 6ms/step - loss: 0.2100 - accuracy: 0.9256 - val_loss: 1.2049 - val_accuracy: 0.7363\n",
            "Epoch 70/100\n",
            "1563/1563 [==============================] - 11s 7ms/step - loss: 0.2080 - accuracy: 0.9263 - val_loss: 1.1775 - val_accuracy: 0.7329\n",
            "Epoch 71/100\n",
            "1563/1563 [==============================] - 11s 7ms/step - loss: 0.2061 - accuracy: 0.9273 - val_loss: 1.1891 - val_accuracy: 0.7303\n",
            "Epoch 72/100\n",
            "1563/1563 [==============================] - 11s 7ms/step - loss: 0.2079 - accuracy: 0.9282 - val_loss: 1.2661 - val_accuracy: 0.7260\n",
            "Epoch 73/100\n",
            "1563/1563 [==============================] - 7s 4ms/step - loss: 0.2089 - accuracy: 0.9259 - val_loss: 1.2050 - val_accuracy: 0.7270\n",
            "Epoch 74/100\n",
            "1563/1563 [==============================] - 7s 4ms/step - loss: 0.2034 - accuracy: 0.9280 - val_loss: 1.2186 - val_accuracy: 0.7272\n",
            "Epoch 75/100\n",
            "1563/1563 [==============================] - 11s 7ms/step - loss: 0.2063 - accuracy: 0.9279 - val_loss: 1.2248 - val_accuracy: 0.7250\n",
            "Epoch 76/100\n",
            "1563/1563 [==============================] - 7s 4ms/step - loss: 0.2083 - accuracy: 0.9271 - val_loss: 1.2084 - val_accuracy: 0.7336\n",
            "Epoch 77/100\n",
            "1563/1563 [==============================] - 11s 7ms/step - loss: 0.1968 - accuracy: 0.9312 - val_loss: 1.2799 - val_accuracy: 0.7242\n",
            "Epoch 78/100\n",
            "1563/1563 [==============================] - 7s 4ms/step - loss: 0.1987 - accuracy: 0.9302 - val_loss: 1.2303 - val_accuracy: 0.7290\n",
            "Epoch 79/100\n",
            "1563/1563 [==============================] - 11s 7ms/step - loss: 0.1995 - accuracy: 0.9301 - val_loss: 1.2370 - val_accuracy: 0.7294\n",
            "Epoch 80/100\n",
            "1563/1563 [==============================] - 11s 7ms/step - loss: 0.1931 - accuracy: 0.9326 - val_loss: 1.2445 - val_accuracy: 0.7313\n",
            "Epoch 81/100\n",
            "1563/1563 [==============================] - 11s 7ms/step - loss: 0.2038 - accuracy: 0.9294 - val_loss: 1.2377 - val_accuracy: 0.7298\n",
            "Epoch 82/100\n",
            "1563/1563 [==============================] - 11s 7ms/step - loss: 0.1987 - accuracy: 0.9316 - val_loss: 1.1889 - val_accuracy: 0.7291\n",
            "Epoch 83/100\n",
            "1563/1563 [==============================] - 11s 6ms/step - loss: 0.1906 - accuracy: 0.9332 - val_loss: 1.2454 - val_accuracy: 0.7345\n",
            "Epoch 84/100\n",
            "1563/1563 [==============================] - 11s 6ms/step - loss: 0.1977 - accuracy: 0.9319 - val_loss: 1.2339 - val_accuracy: 0.7337\n",
            "Epoch 85/100\n",
            "1563/1563 [==============================] - 11s 7ms/step - loss: 0.1931 - accuracy: 0.9324 - val_loss: 1.2410 - val_accuracy: 0.7247\n",
            "Epoch 86/100\n",
            "1563/1563 [==============================] - 11s 7ms/step - loss: 0.1940 - accuracy: 0.9326 - val_loss: 1.2332 - val_accuracy: 0.7280\n",
            "Epoch 87/100\n",
            "1563/1563 [==============================] - 11s 6ms/step - loss: 0.1879 - accuracy: 0.9334 - val_loss: 1.2423 - val_accuracy: 0.7311\n",
            "Epoch 88/100\n",
            "1563/1563 [==============================] - 11s 7ms/step - loss: 0.1929 - accuracy: 0.9322 - val_loss: 1.2376 - val_accuracy: 0.7295\n",
            "Epoch 89/100\n",
            "1563/1563 [==============================] - 11s 7ms/step - loss: 0.1914 - accuracy: 0.9337 - val_loss: 1.2312 - val_accuracy: 0.7212\n",
            "Epoch 90/100\n",
            "1563/1563 [==============================] - 11s 7ms/step - loss: 0.1873 - accuracy: 0.9349 - val_loss: 1.2551 - val_accuracy: 0.7309\n",
            "Epoch 91/100\n",
            "1563/1563 [==============================] - 11s 6ms/step - loss: 0.1906 - accuracy: 0.9338 - val_loss: 1.2559 - val_accuracy: 0.7277\n",
            "Epoch 92/100\n",
            "1563/1563 [==============================] - 11s 7ms/step - loss: 0.1927 - accuracy: 0.9324 - val_loss: 1.2466 - val_accuracy: 0.7298\n",
            "Epoch 93/100\n",
            "1563/1563 [==============================] - 11s 7ms/step - loss: 0.1856 - accuracy: 0.9360 - val_loss: 1.2589 - val_accuracy: 0.7285\n",
            "Epoch 94/100\n",
            "1563/1563 [==============================] - 11s 7ms/step - loss: 0.1789 - accuracy: 0.9379 - val_loss: 1.2826 - val_accuracy: 0.7273\n",
            "Epoch 95/100\n",
            "1563/1563 [==============================] - 11s 7ms/step - loss: 0.1799 - accuracy: 0.9375 - val_loss: 1.3273 - val_accuracy: 0.7215\n",
            "Epoch 96/100\n",
            "1563/1563 [==============================] - 11s 7ms/step - loss: 0.1839 - accuracy: 0.9363 - val_loss: 1.2663 - val_accuracy: 0.7268\n",
            "Epoch 97/100\n",
            "1563/1563 [==============================] - 11s 7ms/step - loss: 0.1856 - accuracy: 0.9353 - val_loss: 1.2941 - val_accuracy: 0.7318\n",
            "Epoch 98/100\n",
            "1563/1563 [==============================] - 11s 7ms/step - loss: 0.1823 - accuracy: 0.9365 - val_loss: 1.2990 - val_accuracy: 0.7304\n",
            "Epoch 99/100\n",
            "1563/1563 [==============================] - 11s 7ms/step - loss: 0.1849 - accuracy: 0.9360 - val_loss: 1.3188 - val_accuracy: 0.7232\n",
            "Epoch 100/100\n",
            "1563/1563 [==============================] - 11s 7ms/step - loss: 0.1834 - accuracy: 0.9380 - val_loss: 1.3175 - val_accuracy: 0.7252\n"
          ],
          "name": "stdout"
        }
      ]
    },
    {
      "cell_type": "code",
      "metadata": {
        "id": "DkSaOCS3U1eH"
      },
      "source": [
        "# plot diagnostic learning curves\n",
        "def summarize_diagnostics(history):\n",
        "\t# plot loss\n",
        "\tplot.subplot(211)\n",
        "\tplot.title('Cross Entropy Loss')\n",
        "\tplot.plot(history.history['loss'], color='blue', label='train')\n",
        "\tplot.plot(history.history['val_loss'], color='orange', label='test')\n",
        "\t# plot accuracy\n",
        "\tplot.subplot(212)\n",
        "\tplot.title('Classification Accuracy')\n",
        "\tplot.plot(history.history['accuracy'], color='blue', label='train')\n",
        "\tplot.plot(history.history['val_accuracy'], color='orange', label='test')\n",
        "\t# save plot to file\n",
        "\t#filename = sys.argv[0].split('/')[-1]\n",
        "\t#pyplot.savefig(filename + '_plot.png')\n",
        "\t#pyplot.close()"
      ],
      "execution_count": 21,
      "outputs": []
    },
    {
      "cell_type": "code",
      "metadata": {
        "colab": {
          "base_uri": "https://localhost:8080/",
          "height": 281
        },
        "id": "H5cQ86b46cfT",
        "outputId": "25cef703-ddd2-4a04-b6ec-1864acb4ba2a"
      },
      "source": [
        "summarize_diagnostics(history)"
      ],
      "execution_count": 22,
      "outputs": [
        {
          "output_type": "display_data",
          "data": {
            "image/png": "[encoded data removed]",
            "text/plain": [
              "<Figure size 432x288 with 2 Axes>"
            ]
          },
          "metadata": {
            "tags": [],
            "needs_background": "light"
          }
        }
      ]
    },
    {
      "cell_type": "code",
      "metadata": {
        "colab": {
          "base_uri": "https://localhost:8080/"
        },
        "id": "cWNNKwkR6Eu0",
        "outputId": "4b9833f7-c69e-41f3-dd67-09bcbc208311"
      },
      "source": [
        "#Evaluating the model with training dataset\n",
        "loss, accuracy = model.evaluate(train_dataset)\n",
        "print(\"Loss:\", loss)\n",
        "print(\"Accuracy:\", accuracy)"
      ],
      "execution_count": 23,
      "outputs": [
        {
          "output_type": "stream",
          "text": [
            "1563/1563 [==============================] - 9s 5ms/step - loss: 0.0343 - accuracy: 0.9926\n",
            "Loss: 0.034263063222169876\n",
            "Accuracy: 0.9926000237464905\n"
          ],
          "name": "stdout"
        }
      ]
    },
    {
      "cell_type": "code",
      "metadata": {
        "colab": {
          "base_uri": "https://localhost:8080/"
        },
        "id": "t_ZDsSfqBkXM",
        "outputId": "b3fff7f1-1ab0-4105-a199-59a51ae5ec63"
      },
      "source": [
        "#Evaluating the model with testing dataset\n",
        "loss, accuracy = model.evaluate(test_dataset)\n",
        "print(\"Loss:\", loss)\n",
        "print(\"Accuracy:\", accuracy)"
      ],
      "execution_count": 24,
      "outputs": [
        {
          "output_type": "stream",
          "text": [
            "313/313 [==============================] - 1s 3ms/step - loss: 1.3175 - accuracy: 0.7252\n",
            "Loss: 1.3174748420715332\n",
            "Accuracy: 0.7251999974250793\n"
          ],
          "name": "stdout"
        }
      ]
    },
    {
      "cell_type": "code",
      "metadata": {
        "colab": {
          "base_uri": "https://localhost:8080/",
          "height": 300
        },
        "id": "uJ1Wl7OwG-BS",
        "outputId": "55ef7d67-863a-40e1-e7d2-060fe4b06ac2"
      },
      "source": [
        "plot.plot(history.history['accuracy'], label='accuracy') \n",
        "plot.plot(history.history['val_accuracy'], label='validation accuracy')\n",
        "plot.xlabel('Epochs')\n",
        "plot.ylabel('Accuracy')\n",
        "plot.ylim([0.5,1])\n",
        "plot.legend(loc = 'lower right')"
      ],
      "execution_count": 25,
      "outputs": [
        {
          "output_type": "execute_result",
          "data": {
            "text/plain": [
              "<matplotlib.legend.Legend at 0x7f7cb2ad47d0>"
            ]
          },
          "metadata": {
            "tags": []
          },
          "execution_count": 25
        },
        {
          "output_type": "display_data",
          "data": {
            "image/png": "[encoded data removed]",
            "text/plain": [
              "<Figure size 432x288 with 1 Axes>"
            ]
          },
          "metadata": {
            "tags": [],
            "needs_background": "light"
          }
        }
      ]
    },
    {
      "cell_type": "code",
      "metadata": {
        "colab": {
          "base_uri": "https://localhost:8080/",
          "height": 300
        },
        "id": "CdEnlt_dVTNf",
        "outputId": "10b8c576-6f64-4f2c-90c6-26925f605f73"
      },
      "source": [
        "plot.plot(history.history['loss'], label='loss') \n",
        "plot.plot(history.history['val_loss'], label='validation loss')\n",
        "plot.xlabel('Epochs')\n",
        "plot.ylabel('Loss')\n",
        "plot.ylim([0.5,1])\n",
        "plot.legend(loc = 'lower right')"
      ],
      "execution_count": 26,
      "outputs": [
        {
          "output_type": "execute_result",
          "data": {
            "text/plain": [
              "<matplotlib.legend.Legend at 0x7f7cb2aa1550>"
            ]
          },
          "metadata": {
            "tags": []
          },
          "execution_count": 26
        },
        {
          "output_type": "display_data",
          "data": {
            "image/png": "[encoded data removed]",
            "text/plain": [
              "<Figure size 432x288 with 1 Axes>"
            ]
          },
          "metadata": {
            "tags": [],
            "needs_background": "light"
          }
        }
      ]
    }
  ]
}